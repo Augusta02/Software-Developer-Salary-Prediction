{
 "cells": [
  {
   "cell_type": "code",
   "metadata": {
    "cell_id": "4422640b-4273-410a-92d6-5a9b376798d1",
    "tags": [],
    "deepnote_to_be_reexecuted": false,
    "source_hash": "5353f8e5",
    "execution_start": 1646128696780,
    "execution_millis": 5455,
    "deepnote_cell_type": "code"
   },
   "source": "import pandas as pd\nimport matplotlib.pyplot as plt\nimport seaborn as sns\n\ndf = pd.read_csv('survey_results_public.csv')",
   "execution_count": 1,
   "outputs": []
  },
  {
   "cell_type": "code",
   "metadata": {
    "cell_id": "c899ff63-0cab-401e-9e9b-fe4f911d7b80",
    "tags": [],
    "deepnote_to_be_reexecuted": false,
    "source_hash": "c085b6ba",
    "execution_start": 1646128702248,
    "execution_millis": 286,
    "deepnote_cell_type": "code"
   },
   "source": "df.head()",
   "execution_count": 2,
   "outputs": [
    {
     "output_type": "execute_result",
     "execution_count": 2,
     "data": {
      "application/vnd.deepnote.dataframe.v3+json": {
       "column_count": 48,
       "row_count": 5,
       "columns": [
        {
         "name": "ResponseId",
         "dtype": "int64",
         "stats": {
          "unique_count": 5,
          "nan_count": 0,
          "min": "1",
          "max": "5",
          "histogram": [
           {
            "bin_start": 1,
            "bin_end": 1.4,
            "count": 1
           },
           {
            "bin_start": 1.4,
            "bin_end": 1.8,
            "count": 0
           },
           {
            "bin_start": 1.8,
            "bin_end": 2.2,
            "count": 1
           },
           {
            "bin_start": 2.2,
            "bin_end": 2.6,
            "count": 0
           },
           {
            "bin_start": 2.6,
            "bin_end": 3,
            "count": 0
           },
           {
            "bin_start": 3,
            "bin_end": 3.4000000000000004,
            "count": 1
           },
           {
            "bin_start": 3.4000000000000004,
            "bin_end": 3.8000000000000003,
            "count": 0
           },
           {
            "bin_start": 3.8000000000000003,
            "bin_end": 4.2,
            "count": 1
           },
           {
            "bin_start": 4.2,
            "bin_end": 4.6,
            "count": 0
           },
           {
            "bin_start": 4.6,
            "bin_end": 5,
            "count": 1
           }
          ]
         }
        },
        {
         "name": "MainBranch",
         "dtype": "object",
         "stats": {
          "unique_count": 3,
          "nan_count": 0,
          "categories": [
           {
            "name": "I am a developer by profession",
            "count": 3
           },
           {
            "name": "I am a student who is learning to code",
            "count": 1
           },
           {
            "name": "I am not primarily a developer, but I write code sometimes as part of my work",
            "count": 1
           }
          ]
         }
        },
        {
         "name": "Employment",
         "dtype": "object",
         "stats": {
          "unique_count": 3,
          "nan_count": 0,
          "categories": [
           {
            "name": "Independent contractor, freelancer, or self-employed",
            "count": 2
           },
           {
            "name": "Student, full-time",
            "count": 2
           },
           {
            "name": "Employed full-time",
            "count": 1
           }
          ]
         }
        },
        {
         "name": "Country",
         "dtype": "object",
         "stats": {
          "unique_count": 5,
          "nan_count": 0,
          "categories": [
           {
            "name": "Slovakia",
            "count": 1
           },
           {
            "name": "Netherlands",
            "count": 1
           },
           {
            "name": "3 others",
            "count": 3
           }
          ]
         }
        },
        {
         "name": "US_State",
         "dtype": "object",
         "stats": {
          "unique_count": 0,
          "nan_count": 5,
          "categories": [
           {
            "name": "Missing",
            "count": 5
           }
          ]
         }
        },
        {
         "name": "UK_Country",
         "dtype": "object",
         "stats": {
          "unique_count": 1,
          "nan_count": 4,
          "categories": [
           {
            "name": "England",
            "count": 1
           },
           {
            "name": "Missing",
            "count": 4
           }
          ]
         }
        },
        {
         "name": "EdLevel",
         "dtype": "object",
         "stats": {
          "unique_count": 3,
          "nan_count": 0,
          "categories": [
           {
            "name": "Bachelor’s degree (B.A., B.S., B.Eng., etc.)",
            "count": 2
           },
           {
            "name": "Master’s degree (M.A., M.S., M.Eng., MBA, etc.)",
            "count": 2
           },
           {
            "name": "Secondary school (e.g. American high school, German Realschule or Gymnasium, etc.)",
            "count": 1
           }
          ]
         }
        },
        {
         "name": "Age1stCode",
         "dtype": "object",
         "stats": {
          "unique_count": 3,
          "nan_count": 0,
          "categories": [
           {
            "name": "11 - 17 years",
            "count": 3
           },
           {
            "name": "18 - 24 years",
            "count": 1
           },
           {
            "name": "5 - 10 years",
            "count": 1
           }
          ]
         }
        },
        {
         "name": "LearnCode",
         "dtype": "object",
         "stats": {
          "unique_count": 4,
          "nan_count": 1,
          "categories": [
           {
            "name": "Coding Bootcamp;Other online resources (ex: videos, blogs, etc)",
            "count": 1
           },
           {
            "name": "3 others",
            "count": 3
           },
           {
            "name": "Missing",
            "count": 1
           }
          ]
         }
        },
        {
         "name": "YearsCode",
         "dtype": "object",
         "stats": {
          "unique_count": 2,
          "nan_count": 3,
          "categories": [
           {
            "name": "7",
            "count": 1
           },
           {
            "name": "17",
            "count": 1
           },
           {
            "name": "Missing",
            "count": 3
           }
          ]
         }
        },
        {
         "name": "YearsCodePro",
         "dtype": "object",
         "stats": {
          "unique_count": 1,
          "nan_count": 4,
          "categories": [
           {
            "name": "10",
            "count": 1
           },
           {
            "name": "Missing",
            "count": 4
           }
          ]
         }
        },
        {
         "name": "DevType",
         "dtype": "object",
         "stats": {
          "unique_count": 3,
          "nan_count": 2,
          "categories": [
           {
            "name": "Developer, mobile",
            "count": 1
           },
           {
            "name": "2 others",
            "count": 2
           },
           {
            "name": "Missing",
            "count": 2
           }
          ]
         }
        },
        {
         "name": "OrgSize",
         "dtype": "object",
         "stats": {
          "unique_count": 3,
          "nan_count": 2,
          "categories": [
           {
            "name": "20 to 99 employees",
            "count": 1
           },
           {
            "name": "2 others",
            "count": 2
           },
           {
            "name": "Missing",
            "count": 2
           }
          ]
         }
        },
        {
         "name": "Currency",
         "dtype": "object",
         "stats": {
          "unique_count": 2,
          "nan_count": 2,
          "categories": [
           {
            "name": "EUR European Euro",
            "count": 2
           },
           {
            "name": "GBP\tPound sterling",
            "count": 1
           },
           {
            "name": "Missing",
            "count": 2
           }
          ]
         }
        },
        {
         "name": "CompTotal",
         "dtype": "float64",
         "stats": {
          "unique_count": 1,
          "nan_count": 4,
          "min": "4800.0",
          "max": "4800.0",
          "histogram": [
           {
            "bin_start": 4799.5,
            "bin_end": 4799.6,
            "count": 0
           },
           {
            "bin_start": 4799.6,
            "bin_end": 4799.7,
            "count": 0
           },
           {
            "bin_start": 4799.7,
            "bin_end": 4799.8,
            "count": 0
           },
           {
            "bin_start": 4799.8,
            "bin_end": 4799.9,
            "count": 0
           },
           {
            "bin_start": 4799.9,
            "bin_end": 4800,
            "count": 0
           },
           {
            "bin_start": 4800,
            "bin_end": 4800.1,
            "count": 1
           },
           {
            "bin_start": 4800.1,
            "bin_end": 4800.2,
            "count": 0
           },
           {
            "bin_start": 4800.2,
            "bin_end": 4800.3,
            "count": 0
           },
           {
            "bin_start": 4800.3,
            "bin_end": 4800.4,
            "count": 0
           },
           {
            "bin_start": 4800.4,
            "bin_end": 4800.5,
            "count": 0
           }
          ]
         }
        },
        {
         "name": "CompFreq",
         "dtype": "object",
         "stats": {
          "unique_count": 1,
          "nan_count": 3,
          "categories": [
           {
            "name": "Monthly",
            "count": 2
           },
           {
            "name": "Missing",
            "count": 3
           }
          ]
         }
        },
        {
         "name": "LanguageHaveWorkedWith",
         "dtype": "object",
         "stats": {
          "unique_count": 5,
          "nan_count": 0,
          "categories": [
           {
            "name": "C++;HTML/CSS;JavaScript;Objective-C;PHP;Swift",
            "count": 1
           },
           {
            "name": "JavaScript;Python",
            "count": 1
           },
           {
            "name": "3 others",
            "count": 3
           }
          ]
         }
        },
        {
         "name": "LanguageWantToWorkWith",
         "dtype": "object",
         "stats": {
          "unique_count": 4,
          "nan_count": 1,
          "categories": [
           {
            "name": "Swift",
            "count": 1
           },
           {
            "name": "3 others",
            "count": 3
           },
           {
            "name": "Missing",
            "count": 1
           }
          ]
         }
        },
        {
         "name": "DatabaseHaveWorkedWith",
         "dtype": "object",
         "stats": {
          "unique_count": 4,
          "nan_count": 1,
          "categories": [
           {
            "name": "PostgreSQL;SQLite",
            "count": 1
           },
           {
            "name": "3 others",
            "count": 3
           },
           {
            "name": "Missing",
            "count": 1
           }
          ]
         }
        },
        {
         "name": "DatabaseWantToWorkWith",
         "dtype": "object",
         "stats": {
          "unique_count": 2,
          "nan_count": 2,
          "categories": [
           {
            "name": "SQLite",
            "count": 2
           },
           {
            "name": "Cassandra;Elasticsearch;PostgreSQL;Redis",
            "count": 1
           },
           {
            "name": "Missing",
            "count": 2
           }
          ]
         }
        },
        {
         "name": "PlatformHaveWorkedWith",
         "dtype": "object",
         "stats": {
          "unique_count": 1,
          "nan_count": 4,
          "categories": [
           {
            "name": "Heroku",
            "count": 1
           },
           {
            "name": "Missing",
            "count": 4
           }
          ]
         }
        },
        {
         "name": "PlatformWantToWorkWith",
         "dtype": "object",
         "stats": {
          "unique_count": 0,
          "nan_count": 5,
          "categories": [
           {
            "name": "Missing",
            "count": 5
           }
          ]
         }
        },
        {
         "name": "WebframeHaveWorkedWith",
         "dtype": "object",
         "stats": {
          "unique_count": 4,
          "nan_count": 0,
          "categories": [
           {
            "name": "Flask",
            "count": 2
           },
           {
            "name": "Laravel;Symfony",
            "count": 1
           },
           {
            "name": "2 others",
            "count": 2
           }
          ]
         }
        },
        {
         "name": "WebframeWantToWorkWith",
         "dtype": "object",
         "stats": {
          "unique_count": 2,
          "nan_count": 2,
          "categories": [
           {
            "name": "Flask",
            "count": 2
           },
           {
            "name": "Angular;jQuery",
            "count": 1
           },
           {
            "name": "Missing",
            "count": 2
           }
          ]
         }
        },
        {
         "name": "MiscTechHaveWorkedWith",
         "dtype": "object",
         "stats": {
          "unique_count": 3,
          "nan_count": 2,
          "categories": [
           {
            "name": "Cordova",
            "count": 1
           },
           {
            "name": "2 others",
            "count": 2
           },
           {
            "name": "Missing",
            "count": 2
           }
          ]
         }
        },
        {
         "name": "MiscTechWantToWorkWith",
         "dtype": "object",
         "stats": {
          "unique_count": 2,
          "nan_count": 3,
          "categories": [
           {
            "name": "Keras;NumPy;Pandas;TensorFlow;Torch/PyTorch",
            "count": 1
           },
           {
            "name": "Hadoop;NumPy;Pandas",
            "count": 1
           },
           {
            "name": "Missing",
            "count": 3
           }
          ]
         }
        },
        {
         "name": "ToolsTechHaveWorkedWith",
         "dtype": "object",
         "stats": {
          "unique_count": 2,
          "nan_count": 3,
          "categories": [
           {
            "name": "Docker;Git;Yarn",
            "count": 1
           },
           {
            "name": "Docker;Git;Kubernetes;Yarn",
            "count": 1
           },
           {
            "name": "Missing",
            "count": 3
           }
          ]
         }
        },
        {
         "name": "ToolsTechWantToWorkWith",
         "dtype": "object",
         "stats": {
          "unique_count": 2,
          "nan_count": 3,
          "categories": [
           {
            "name": "Git",
            "count": 1
           },
           {
            "name": "Docker;Git;Kubernetes;Yarn",
            "count": 1
           },
           {
            "name": "Missing",
            "count": 3
           }
          ]
         }
        },
        {
         "name": "NEWCollabToolsHaveWorkedWith",
         "dtype": "object",
         "stats": {
          "unique_count": 4,
          "nan_count": 1,
          "categories": [
           {
            "name": "PHPStorm;Xcode",
            "count": 1
           },
           {
            "name": "3 others",
            "count": 3
           },
           {
            "name": "Missing",
            "count": 1
           }
          ]
         }
        },
        {
         "name": "NEWCollabToolsWantToWorkWith",
         "dtype": "object",
         "stats": {
          "unique_count": 3,
          "nan_count": 2,
          "categories": [
           {
            "name": "Atom;Xcode",
            "count": 1
           },
           {
            "name": "2 others",
            "count": 2
           },
           {
            "name": "Missing",
            "count": 2
           }
          ]
         }
        },
        {
         "name": "OpSys",
         "dtype": "object",
         "stats": {
          "unique_count": 3,
          "nan_count": 0,
          "categories": [
           {
            "name": "MacOS",
            "count": 2
           },
           {
            "name": "Windows",
            "count": 2
           },
           {
            "name": "Linux-based",
            "count": 1
           }
          ]
         }
        },
        {
         "name": "NEWStuck",
         "dtype": "object",
         "stats": {
          "unique_count": 4,
          "nan_count": 0,
          "categories": [
           {
            "name": "Call a coworker or friend;Visit Stack Overflow;Go for a walk or other physical activity;Google it",
            "count": 2
           },
           {
            "name": "Visit Stack Overflow;Google it",
            "count": 1
           },
           {
            "name": "2 others",
            "count": 2
           }
          ]
         }
        },
        {
         "name": "NEWSOSites",
         "dtype": "object",
         "stats": {
          "unique_count": 2,
          "nan_count": 0,
          "categories": [
           {
            "name": "Stack Overflow",
            "count": 3
           },
           {
            "name": "Stack Overflow;Stack Exchange",
            "count": 2
           }
          ]
         }
        },
        {
         "name": "SOVisitFreq",
         "dtype": "object",
         "stats": {
          "unique_count": 2,
          "nan_count": 0,
          "categories": [
           {
            "name": "Daily or almost daily",
            "count": 3
           },
           {
            "name": "Multiple times per day",
            "count": 2
           }
          ]
         }
        },
        {
         "name": "SOAccount",
         "dtype": "object",
         "stats": {
          "unique_count": 1,
          "nan_count": 0,
          "categories": [
           {
            "name": "Yes",
            "count": 5
           }
          ]
         }
        },
        {
         "name": "SOPartFreq",
         "dtype": "object",
         "stats": {
          "unique_count": 4,
          "nan_count": 0,
          "categories": [
           {
            "name": "Daily or almost daily",
            "count": 2
           },
           {
            "name": "A few times per month or weekly",
            "count": 1
           },
           {
            "name": "2 others",
            "count": 2
           }
          ]
         }
        },
        {
         "name": "SOComm",
         "dtype": "object",
         "stats": {
          "unique_count": 3,
          "nan_count": 0,
          "categories": [
           {
            "name": "Yes, definitely",
            "count": 3
           },
           {
            "name": "Neutral",
            "count": 1
           },
           {
            "name": "Yes, somewhat",
            "count": 1
           }
          ]
         }
        },
        {
         "name": "NEWOtherComms",
         "dtype": "object",
         "stats": {
          "unique_count": 2,
          "nan_count": 0,
          "categories": [
           {
            "name": "No",
            "count": 4
           },
           {
            "name": "Yes",
            "count": 1
           }
          ]
         }
        },
        {
         "name": "Age",
         "dtype": "object",
         "stats": {
          "unique_count": 3,
          "nan_count": 0,
          "categories": [
           {
            "name": "25-34 years old",
            "count": 2
           },
           {
            "name": "18-24 years old",
            "count": 2
           },
           {
            "name": "35-44 years old",
            "count": 1
           }
          ]
         }
        },
        {
         "name": "Gender",
         "dtype": "object",
         "stats": {
          "unique_count": 1,
          "nan_count": 0,
          "categories": [
           {
            "name": "Man",
            "count": 5
           }
          ]
         }
        },
        {
         "name": "Trans",
         "dtype": "object",
         "stats": {
          "unique_count": 1,
          "nan_count": 0,
          "categories": [
           {
            "name": "No",
            "count": 5
           }
          ]
         }
        },
        {
         "name": "Sexuality",
         "dtype": "object",
         "stats": {
          "unique_count": 2,
          "nan_count": 1,
          "categories": [
           {
            "name": "Straight / Heterosexual",
            "count": 3
           },
           {
            "name": "Prefer not to say",
            "count": 1
           },
           {
            "name": "Missing",
            "count": 1
           }
          ]
         }
        },
        {
         "name": "Ethnicity",
         "dtype": "object",
         "stats": {
          "unique_count": 2,
          "nan_count": 0,
          "categories": [
           {
            "name": "White or of European descent",
            "count": 4
           },
           {
            "name": "Prefer not to say",
            "count": 1
           }
          ]
         }
        },
        {
         "name": "Accessibility",
         "dtype": "object",
         "stats": {
          "unique_count": 2,
          "nan_count": 0,
          "categories": [
           {
            "name": "None of the above",
            "count": 4
           },
           {
            "name": "I am deaf / hard of hearing",
            "count": 1
           }
          ]
         }
        },
        {
         "name": "MentalHealth",
         "dtype": "object",
         "stats": {
          "unique_count": 1,
          "nan_count": 2,
          "categories": [
           {
            "name": "None of the above",
            "count": 3
           },
           {
            "name": "Missing",
            "count": 2
           }
          ]
         }
        },
        {
         "name": "SurveyLength",
         "dtype": "object",
         "stats": {
          "unique_count": 1,
          "nan_count": 0,
          "categories": [
           {
            "name": "Appropriate in length",
            "count": 5
           }
          ]
         }
        },
        {
         "name": "SurveyEase",
         "dtype": "object",
         "stats": {
          "unique_count": 2,
          "nan_count": 0,
          "categories": [
           {
            "name": "Easy",
            "count": 4
           },
           {
            "name": "Neither easy nor difficult",
            "count": 1
           }
          ]
         }
        },
        {
         "name": "ConvertedCompYearly",
         "dtype": "float64",
         "stats": {
          "unique_count": 1,
          "nan_count": 4,
          "min": "62268.0",
          "max": "62268.0",
          "histogram": [
           {
            "bin_start": 62267.5,
            "bin_end": 62267.6,
            "count": 0
           },
           {
            "bin_start": 62267.6,
            "bin_end": 62267.7,
            "count": 0
           },
           {
            "bin_start": 62267.7,
            "bin_end": 62267.8,
            "count": 0
           },
           {
            "bin_start": 62267.8,
            "bin_end": 62267.9,
            "count": 0
           },
           {
            "bin_start": 62267.9,
            "bin_end": 62268,
            "count": 0
           },
           {
            "bin_start": 62268,
            "bin_end": 62268.1,
            "count": 1
           },
           {
            "bin_start": 62268.1,
            "bin_end": 62268.2,
            "count": 0
           },
           {
            "bin_start": 62268.2,
            "bin_end": 62268.3,
            "count": 0
           },
           {
            "bin_start": 62268.3,
            "bin_end": 62268.4,
            "count": 0
           },
           {
            "bin_start": 62268.4,
            "bin_end": 62268.5,
            "count": 0
           }
          ]
         }
        },
        {
         "name": "_deepnote_index_column",
         "dtype": "int64"
        }
       ],
       "rows": [
        {
         "ResponseId": 1,
         "MainBranch": "I am a developer by profession",
         "Employment": "Independent contractor, freelancer, or self-employed",
         "Country": "Slovakia",
         "US_State": "nan",
         "UK_Country": "nan",
         "EdLevel": "Secondary school (e.g. American high school, German Realschule or Gymnasium, etc.)",
         "Age1stCode": "18 - 24 years",
         "LearnCode": "Coding Bootcamp;Other online resources (ex: videos, blogs, etc)",
         "YearsCode": "nan",
         "YearsCodePro": "nan",
         "DevType": "Developer, mobile",
         "OrgSize": "20 to 99 employees",
         "Currency": "EUR European Euro",
         "CompTotal": 4800,
         "CompFreq": "Monthly",
         "LanguageHaveWorkedWith": "C++;HTML/CSS;JavaScript;Objective-C;PHP;Swift",
         "LanguageWantToWorkWith": "Swift",
         "DatabaseHaveWorkedWith": "PostgreSQL;SQLite",
         "DatabaseWantToWorkWith": "SQLite",
         "PlatformHaveWorkedWith": "nan",
         "PlatformWantToWorkWith": "nan",
         "WebframeHaveWorkedWith": "Laravel;Symfony",
         "WebframeWantToWorkWith": "nan",
         "MiscTechHaveWorkedWith": "nan",
         "MiscTechWantToWorkWith": "nan",
         "ToolsTechHaveWorkedWith": "nan",
         "ToolsTechWantToWorkWith": "nan",
         "NEWCollabToolsHaveWorkedWith": "PHPStorm;Xcode",
         "NEWCollabToolsWantToWorkWith": "Atom;Xcode",
         "OpSys": "MacOS",
         "NEWStuck": "Call a coworker or friend;Visit Stack Overflow;Go for a walk or other physical activity;Google it",
         "NEWSOSites": "Stack Overflow",
         "SOVisitFreq": "Multiple times per day",
         "SOAccount": "Yes",
         "SOPartFreq": "A few times per month or weekly",
         "SOComm": "Yes, definitely",
         "NEWOtherComms": "No",
         "Age": "25-34 years old",
         "Gender": "Man",
         "Trans": "No",
         "Sexuality": "Straight / Heterosexual",
         "Ethnicity": "White or of European descent",
         "Accessibility": "None of the above",
         "MentalHealth": "None of the above",
         "SurveyLength": "Appropriate in length",
         "SurveyEase": "Easy",
         "ConvertedCompYearly": 62268,
         "_deepnote_index_column": 0
        },
        {
         "ResponseId": 2,
         "MainBranch": "I am a student who is learning to code",
         "Employment": "Student, full-time",
         "Country": "Netherlands",
         "US_State": "nan",
         "UK_Country": "nan",
         "EdLevel": "Bachelor’s degree (B.A., B.S., B.Eng., etc.)",
         "Age1stCode": "11 - 17 years",
         "LearnCode": "Other online resources (ex: videos, blogs, etc);School",
         "YearsCode": "7",
         "YearsCodePro": "nan",
         "DevType": "nan",
         "OrgSize": "nan",
         "Currency": "nan",
         "CompTotal": "nan",
         "CompFreq": "nan",
         "LanguageHaveWorkedWith": "JavaScript;Python",
         "LanguageWantToWorkWith": "nan",
         "DatabaseHaveWorkedWith": "PostgreSQL",
         "DatabaseWantToWorkWith": "nan",
         "PlatformHaveWorkedWith": "nan",
         "PlatformWantToWorkWith": "nan",
         "WebframeHaveWorkedWith": "Angular;Flask;Vue.js",
         "WebframeWantToWorkWith": "nan",
         "MiscTechHaveWorkedWith": "Cordova",
         "MiscTechWantToWorkWith": "nan",
         "ToolsTechHaveWorkedWith": "Docker;Git;Yarn",
         "ToolsTechWantToWorkWith": "Git",
         "NEWCollabToolsHaveWorkedWith": "Android Studio;IntelliJ;Notepad++;PyCharm",
         "NEWCollabToolsWantToWorkWith": "nan",
         "OpSys": "Windows",
         "NEWStuck": "Visit Stack Overflow;Google it",
         "NEWSOSites": "Stack Overflow",
         "SOVisitFreq": "Daily or almost daily",
         "SOAccount": "Yes",
         "SOPartFreq": "Daily or almost daily",
         "SOComm": "Yes, definitely",
         "NEWOtherComms": "No",
         "Age": "18-24 years old",
         "Gender": "Man",
         "Trans": "No",
         "Sexuality": "Straight / Heterosexual",
         "Ethnicity": "White or of European descent",
         "Accessibility": "None of the above",
         "MentalHealth": "None of the above",
         "SurveyLength": "Appropriate in length",
         "SurveyEase": "Easy",
         "ConvertedCompYearly": "nan",
         "_deepnote_index_column": 1
        },
        {
         "ResponseId": 3,
         "MainBranch": "I am not primarily a developer, but I write code sometimes as part of my work",
         "Employment": "Student, full-time",
         "Country": "Russian Federation",
         "US_State": "nan",
         "UK_Country": "nan",
         "EdLevel": "Bachelor’s degree (B.A., B.S., B.Eng., etc.)",
         "Age1stCode": "11 - 17 years",
         "LearnCode": "Other online resources (ex: videos, blogs, etc);Online Forum",
         "YearsCode": "nan",
         "YearsCodePro": "nan",
         "DevType": "nan",
         "OrgSize": "nan",
         "Currency": "nan",
         "CompTotal": "nan",
         "CompFreq": "nan",
         "LanguageHaveWorkedWith": "Assembly;C;Python;R;Rust",
         "LanguageWantToWorkWith": "Julia;Python;Rust",
         "DatabaseHaveWorkedWith": "SQLite",
         "DatabaseWantToWorkWith": "SQLite",
         "PlatformHaveWorkedWith": "Heroku",
         "PlatformWantToWorkWith": "nan",
         "WebframeHaveWorkedWith": "Flask",
         "WebframeWantToWorkWith": "Flask",
         "MiscTechHaveWorkedWith": "NumPy;Pandas;TensorFlow;Torch/PyTorch",
         "MiscTechWantToWorkWith": "Keras;NumPy;Pandas;TensorFlow;Torch/PyTorch",
         "ToolsTechHaveWorkedWith": "nan",
         "ToolsTechWantToWorkWith": "nan",
         "NEWCollabToolsHaveWorkedWith": "IPython/Jupyter;PyCharm;RStudio;Sublime Text;Visual Studio Code",
         "NEWCollabToolsWantToWorkWith": "IPython/Jupyter;RStudio;Sublime Text;Visual Studio Code",
         "OpSys": "MacOS",
         "NEWStuck": "Visit Stack Overflow;Google it;Watch help / tutorial videos;Do other work and come back later",
         "NEWSOSites": "Stack Overflow;Stack Exchange",
         "SOVisitFreq": "Multiple times per day",
         "SOAccount": "Yes",
         "SOPartFreq": "Multiple times per day",
         "SOComm": "Yes, definitely",
         "NEWOtherComms": "Yes",
         "Age": "18-24 years old",
         "Gender": "Man",
         "Trans": "No",
         "Sexuality": "Prefer not to say",
         "Ethnicity": "Prefer not to say",
         "Accessibility": "None of the above",
         "MentalHealth": "None of the above",
         "SurveyLength": "Appropriate in length",
         "SurveyEase": "Easy",
         "ConvertedCompYearly": "nan",
         "_deepnote_index_column": 2
        },
        {
         "ResponseId": 4,
         "MainBranch": "I am a developer by profession",
         "Employment": "Employed full-time",
         "Country": "Austria",
         "US_State": "nan",
         "UK_Country": "nan",
         "EdLevel": "Master’s degree (M.A., M.S., M.Eng., MBA, etc.)",
         "Age1stCode": "11 - 17 years",
         "LearnCode": "nan",
         "YearsCode": "nan",
         "YearsCodePro": "nan",
         "DevType": "Developer, front-end",
         "OrgSize": "100 to 499 employees",
         "Currency": "EUR European Euro",
         "CompTotal": "nan",
         "CompFreq": "Monthly",
         "LanguageHaveWorkedWith": "JavaScript;TypeScript",
         "LanguageWantToWorkWith": "JavaScript;TypeScript",
         "DatabaseHaveWorkedWith": "nan",
         "DatabaseWantToWorkWith": "nan",
         "PlatformHaveWorkedWith": "nan",
         "PlatformWantToWorkWith": "nan",
         "WebframeHaveWorkedWith": "Angular;jQuery",
         "WebframeWantToWorkWith": "Angular;jQuery",
         "MiscTechHaveWorkedWith": "nan",
         "MiscTechWantToWorkWith": "nan",
         "ToolsTechHaveWorkedWith": "nan",
         "ToolsTechWantToWorkWith": "nan",
         "NEWCollabToolsHaveWorkedWith": "nan",
         "NEWCollabToolsWantToWorkWith": "nan",
         "OpSys": "Windows",
         "NEWStuck": "Call a coworker or friend;Visit Stack Overflow;Go for a walk or other physical activity;Google it",
         "NEWSOSites": "Stack Overflow",
         "SOVisitFreq": "Daily or almost daily",
         "SOAccount": "Yes",
         "SOPartFreq": "Daily or almost daily",
         "SOComm": "Neutral",
         "NEWOtherComms": "No",
         "Age": "35-44 years old",
         "Gender": "Man",
         "Trans": "No",
         "Sexuality": "Straight / Heterosexual",
         "Ethnicity": "White or of European descent",
         "Accessibility": "I am deaf / hard of hearing",
         "MentalHealth": "nan",
         "SurveyLength": "Appropriate in length",
         "SurveyEase": "Neither easy nor difficult",
         "ConvertedCompYearly": "nan",
         "_deepnote_index_column": 3
        },
        {
         "ResponseId": 5,
         "MainBranch": "I am a developer by profession",
         "Employment": "Independent contractor, freelancer, or self-employed",
         "Country": "United Kingdom of Great Britain and Northern Ireland",
         "US_State": "nan",
         "UK_Country": "England",
         "EdLevel": "Master’s degree (M.A., M.S., M.Eng., MBA, etc.)",
         "Age1stCode": "5 - 10 years",
         "LearnCode": "Friend or family member",
         "YearsCode": "17",
         "YearsCodePro": "10",
         "DevType": "Developer, desktop or enterprise applications;Developer, full-stack;Engineer, data;Other (please sp…",
         "OrgSize": "Just me - I am a freelancer, sole proprietor, etc.",
         "Currency": "GBP\tPound sterling",
         "CompTotal": "nan",
         "CompFreq": "nan",
         "LanguageHaveWorkedWith": "Bash/Shell;HTML/CSS;Python;SQL",
         "LanguageWantToWorkWith": "Bash/Shell;HTML/CSS;Python;SQL",
         "DatabaseHaveWorkedWith": "Elasticsearch;PostgreSQL;Redis",
         "DatabaseWantToWorkWith": "Cassandra;Elasticsearch;PostgreSQL;Redis",
         "PlatformHaveWorkedWith": "nan",
         "PlatformWantToWorkWith": "nan",
         "WebframeHaveWorkedWith": "Flask",
         "WebframeWantToWorkWith": "Flask",
         "MiscTechHaveWorkedWith": "Apache Spark;Hadoop;NumPy;Pandas",
         "MiscTechWantToWorkWith": "Hadoop;NumPy;Pandas",
         "ToolsTechHaveWorkedWith": "Docker;Git;Kubernetes;Yarn",
         "ToolsTechWantToWorkWith": "Docker;Git;Kubernetes;Yarn",
         "NEWCollabToolsHaveWorkedWith": "Atom;IPython/Jupyter;Notepad++;PyCharm;Vim",
         "NEWCollabToolsWantToWorkWith": "Atom;IPython/Jupyter;Notepad++;PyCharm;Vim;Visual Studio Code",
         "OpSys": "Linux-based",
         "NEWStuck": "Visit Stack Overflow;Go for a walk or other physical activity;Google it;Watch help / tutorial video…",
         "NEWSOSites": "Stack Overflow;Stack Exchange",
         "SOVisitFreq": "Daily or almost daily",
         "SOAccount": "Yes",
         "SOPartFreq": "A few times per week",
         "SOComm": "Yes, somewhat",
         "NEWOtherComms": "No",
         "Age": "25-34 years old",
         "Gender": "Man",
         "Trans": "No",
         "Sexuality": "nan",
         "Ethnicity": "White or of European descent",
         "Accessibility": "None of the above",
         "MentalHealth": "nan",
         "SurveyLength": "Appropriate in length",
         "SurveyEase": "Easy",
         "ConvertedCompYearly": "nan",
         "_deepnote_index_column": 4
        }
       ]
      },
      "text/plain": "   ResponseId                                         MainBranch  \\\n0           1                     I am a developer by profession   \n1           2             I am a student who is learning to code   \n2           3  I am not primarily a developer, but I write co...   \n3           4                     I am a developer by profession   \n4           5                     I am a developer by profession   \n\n                                          Employment  \\\n0  Independent contractor, freelancer, or self-em...   \n1                                 Student, full-time   \n2                                 Student, full-time   \n3                                 Employed full-time   \n4  Independent contractor, freelancer, or self-em...   \n\n                                             Country US_State UK_Country  \\\n0                                           Slovakia      NaN        NaN   \n1                                        Netherlands      NaN        NaN   \n2                                 Russian Federation      NaN        NaN   \n3                                            Austria      NaN        NaN   \n4  United Kingdom of Great Britain and Northern I...      NaN    England   \n\n                                             EdLevel     Age1stCode  \\\n0  Secondary school (e.g. American high school, G...  18 - 24 years   \n1       Bachelor’s degree (B.A., B.S., B.Eng., etc.)  11 - 17 years   \n2       Bachelor’s degree (B.A., B.S., B.Eng., etc.)  11 - 17 years   \n3    Master’s degree (M.A., M.S., M.Eng., MBA, etc.)  11 - 17 years   \n4    Master’s degree (M.A., M.S., M.Eng., MBA, etc.)   5 - 10 years   \n\n                                           LearnCode YearsCode  ...  \\\n0  Coding Bootcamp;Other online resources (ex: vi...       NaN  ...   \n1  Other online resources (ex: videos, blogs, etc...         7  ...   \n2  Other online resources (ex: videos, blogs, etc...       NaN  ...   \n3                                                NaN       NaN  ...   \n4                            Friend or family member        17  ...   \n\n               Age Gender Trans                Sexuality  \\\n0  25-34 years old    Man    No  Straight / Heterosexual   \n1  18-24 years old    Man    No  Straight / Heterosexual   \n2  18-24 years old    Man    No        Prefer not to say   \n3  35-44 years old    Man    No  Straight / Heterosexual   \n4  25-34 years old    Man    No                      NaN   \n\n                      Ethnicity                Accessibility  \\\n0  White or of European descent            None of the above   \n1  White or of European descent            None of the above   \n2             Prefer not to say            None of the above   \n3  White or of European descent  I am deaf / hard of hearing   \n4  White or of European descent            None of the above   \n\n        MentalHealth           SurveyLength                  SurveyEase  \\\n0  None of the above  Appropriate in length                        Easy   \n1  None of the above  Appropriate in length                        Easy   \n2  None of the above  Appropriate in length                        Easy   \n3                NaN  Appropriate in length  Neither easy nor difficult   \n4                NaN  Appropriate in length                        Easy   \n\n  ConvertedCompYearly  \n0             62268.0  \n1                 NaN  \n2                 NaN  \n3                 NaN  \n4                 NaN  \n\n[5 rows x 48 columns]",
      "text/html": "<div>\n<style scoped>\n    .dataframe tbody tr th:only-of-type {\n        vertical-align: middle;\n    }\n\n    .dataframe tbody tr th {\n        vertical-align: top;\n    }\n\n    .dataframe thead th {\n        text-align: right;\n    }\n</style>\n<table border=\"1\" class=\"dataframe\">\n  <thead>\n    <tr style=\"text-align: right;\">\n      <th></th>\n      <th>ResponseId</th>\n      <th>MainBranch</th>\n      <th>Employment</th>\n      <th>Country</th>\n      <th>US_State</th>\n      <th>UK_Country</th>\n      <th>EdLevel</th>\n      <th>Age1stCode</th>\n      <th>LearnCode</th>\n      <th>YearsCode</th>\n      <th>...</th>\n      <th>Age</th>\n      <th>Gender</th>\n      <th>Trans</th>\n      <th>Sexuality</th>\n      <th>Ethnicity</th>\n      <th>Accessibility</th>\n      <th>MentalHealth</th>\n      <th>SurveyLength</th>\n      <th>SurveyEase</th>\n      <th>ConvertedCompYearly</th>\n    </tr>\n  </thead>\n  <tbody>\n    <tr>\n      <th>0</th>\n      <td>1</td>\n      <td>I am a developer by profession</td>\n      <td>Independent contractor, freelancer, or self-em...</td>\n      <td>Slovakia</td>\n      <td>NaN</td>\n      <td>NaN</td>\n      <td>Secondary school (e.g. American high school, G...</td>\n      <td>18 - 24 years</td>\n      <td>Coding Bootcamp;Other online resources (ex: vi...</td>\n      <td>NaN</td>\n      <td>...</td>\n      <td>25-34 years old</td>\n      <td>Man</td>\n      <td>No</td>\n      <td>Straight / Heterosexual</td>\n      <td>White or of European descent</td>\n      <td>None of the above</td>\n      <td>None of the above</td>\n      <td>Appropriate in length</td>\n      <td>Easy</td>\n      <td>62268.0</td>\n    </tr>\n    <tr>\n      <th>1</th>\n      <td>2</td>\n      <td>I am a student who is learning to code</td>\n      <td>Student, full-time</td>\n      <td>Netherlands</td>\n      <td>NaN</td>\n      <td>NaN</td>\n      <td>Bachelor’s degree (B.A., B.S., B.Eng., etc.)</td>\n      <td>11 - 17 years</td>\n      <td>Other online resources (ex: videos, blogs, etc...</td>\n      <td>7</td>\n      <td>...</td>\n      <td>18-24 years old</td>\n      <td>Man</td>\n      <td>No</td>\n      <td>Straight / Heterosexual</td>\n      <td>White or of European descent</td>\n      <td>None of the above</td>\n      <td>None of the above</td>\n      <td>Appropriate in length</td>\n      <td>Easy</td>\n      <td>NaN</td>\n    </tr>\n    <tr>\n      <th>2</th>\n      <td>3</td>\n      <td>I am not primarily a developer, but I write co...</td>\n      <td>Student, full-time</td>\n      <td>Russian Federation</td>\n      <td>NaN</td>\n      <td>NaN</td>\n      <td>Bachelor’s degree (B.A., B.S., B.Eng., etc.)</td>\n      <td>11 - 17 years</td>\n      <td>Other online resources (ex: videos, blogs, etc...</td>\n      <td>NaN</td>\n      <td>...</td>\n      <td>18-24 years old</td>\n      <td>Man</td>\n      <td>No</td>\n      <td>Prefer not to say</td>\n      <td>Prefer not to say</td>\n      <td>None of the above</td>\n      <td>None of the above</td>\n      <td>Appropriate in length</td>\n      <td>Easy</td>\n      <td>NaN</td>\n    </tr>\n    <tr>\n      <th>3</th>\n      <td>4</td>\n      <td>I am a developer by profession</td>\n      <td>Employed full-time</td>\n      <td>Austria</td>\n      <td>NaN</td>\n      <td>NaN</td>\n      <td>Master’s degree (M.A., M.S., M.Eng., MBA, etc.)</td>\n      <td>11 - 17 years</td>\n      <td>NaN</td>\n      <td>NaN</td>\n      <td>...</td>\n      <td>35-44 years old</td>\n      <td>Man</td>\n      <td>No</td>\n      <td>Straight / Heterosexual</td>\n      <td>White or of European descent</td>\n      <td>I am deaf / hard of hearing</td>\n      <td>NaN</td>\n      <td>Appropriate in length</td>\n      <td>Neither easy nor difficult</td>\n      <td>NaN</td>\n    </tr>\n    <tr>\n      <th>4</th>\n      <td>5</td>\n      <td>I am a developer by profession</td>\n      <td>Independent contractor, freelancer, or self-em...</td>\n      <td>United Kingdom of Great Britain and Northern I...</td>\n      <td>NaN</td>\n      <td>England</td>\n      <td>Master’s degree (M.A., M.S., M.Eng., MBA, etc.)</td>\n      <td>5 - 10 years</td>\n      <td>Friend or family member</td>\n      <td>17</td>\n      <td>...</td>\n      <td>25-34 years old</td>\n      <td>Man</td>\n      <td>No</td>\n      <td>NaN</td>\n      <td>White or of European descent</td>\n      <td>None of the above</td>\n      <td>NaN</td>\n      <td>Appropriate in length</td>\n      <td>Easy</td>\n      <td>NaN</td>\n    </tr>\n  </tbody>\n</table>\n<p>5 rows × 48 columns</p>\n</div>"
     },
     "metadata": {}
    }
   ]
  },
  {
   "cell_type": "code",
   "metadata": {
    "cell_id": "04e6c280-a4dd-4174-b7a3-4dca8e8a8ef4",
    "tags": [],
    "deepnote_to_be_reexecuted": false,
    "source_hash": "ca083ec6",
    "execution_start": 1646128702545,
    "execution_millis": 64,
    "deepnote_cell_type": "code"
   },
   "source": "# df = df[[\"Country\", \"EdLevel\", \"YearsCodePro\", \"Employment\", \"ConvertedCompYearly\"]]\n# df = df.rename({'ConvertedCompYearly': 'Salary'}, axis = 1)\n# df.head()\n\ndf = df.drop(columns=['ResponseId','MainBranch','US_State','UK_Country','Age1stCode','LearnCode','YearsCode','DevType','OrgSize','Currency','CompTotal','CompFreq','LanguageHaveWorkedWith','LanguageWantToWorkWith','DatabaseHaveWorkedWith','DatabaseWantToWorkWith','PlatformHaveWorkedWith','PlatformWantToWorkWith','WebframeHaveWorkedWith','WebframeWantToWorkWith','MiscTechHaveWorkedWith','MiscTechWantToWorkWith','ToolsTechHaveWorkedWith','ToolsTechWantToWorkWith','NEWCollabToolsHaveWorkedWith','NEWCollabToolsWantToWorkWith','OpSys','NEWStuck','NEWSOSites','SOVisitFreq','SOAccount','SOPartFreq','SOComm','NEWOtherComms','Age','Gender','Trans','Sexuality','Ethnicity','Accessibility','MentalHealth','SurveyLength','SurveyEase'], axis=1)\n\ndf.head()\n",
   "execution_count": 3,
   "outputs": [
    {
     "output_type": "execute_result",
     "execution_count": 3,
     "data": {
      "application/vnd.deepnote.dataframe.v3+json": {
       "column_count": 5,
       "row_count": 5,
       "columns": [
        {
         "name": "Employment",
         "dtype": "object",
         "stats": {
          "unique_count": 3,
          "nan_count": 0,
          "categories": [
           {
            "name": "Independent contractor, freelancer, or self-employed",
            "count": 2
           },
           {
            "name": "Student, full-time",
            "count": 2
           },
           {
            "name": "Employed full-time",
            "count": 1
           }
          ]
         }
        },
        {
         "name": "Country",
         "dtype": "object",
         "stats": {
          "unique_count": 5,
          "nan_count": 0,
          "categories": [
           {
            "name": "Slovakia",
            "count": 1
           },
           {
            "name": "Netherlands",
            "count": 1
           },
           {
            "name": "3 others",
            "count": 3
           }
          ]
         }
        },
        {
         "name": "EdLevel",
         "dtype": "object",
         "stats": {
          "unique_count": 3,
          "nan_count": 0,
          "categories": [
           {
            "name": "Bachelor’s degree (B.A., B.S., B.Eng., etc.)",
            "count": 2
           },
           {
            "name": "Master’s degree (M.A., M.S., M.Eng., MBA, etc.)",
            "count": 2
           },
           {
            "name": "Secondary school (e.g. American high school, German Realschule or Gymnasium, etc.)",
            "count": 1
           }
          ]
         }
        },
        {
         "name": "YearsCodePro",
         "dtype": "object",
         "stats": {
          "unique_count": 1,
          "nan_count": 4,
          "categories": [
           {
            "name": "10",
            "count": 1
           },
           {
            "name": "Missing",
            "count": 4
           }
          ]
         }
        },
        {
         "name": "ConvertedCompYearly",
         "dtype": "float64",
         "stats": {
          "unique_count": 1,
          "nan_count": 4,
          "min": "62268.0",
          "max": "62268.0",
          "histogram": [
           {
            "bin_start": 62267.5,
            "bin_end": 62267.6,
            "count": 0
           },
           {
            "bin_start": 62267.6,
            "bin_end": 62267.7,
            "count": 0
           },
           {
            "bin_start": 62267.7,
            "bin_end": 62267.8,
            "count": 0
           },
           {
            "bin_start": 62267.8,
            "bin_end": 62267.9,
            "count": 0
           },
           {
            "bin_start": 62267.9,
            "bin_end": 62268,
            "count": 0
           },
           {
            "bin_start": 62268,
            "bin_end": 62268.1,
            "count": 1
           },
           {
            "bin_start": 62268.1,
            "bin_end": 62268.2,
            "count": 0
           },
           {
            "bin_start": 62268.2,
            "bin_end": 62268.3,
            "count": 0
           },
           {
            "bin_start": 62268.3,
            "bin_end": 62268.4,
            "count": 0
           },
           {
            "bin_start": 62268.4,
            "bin_end": 62268.5,
            "count": 0
           }
          ]
         }
        },
        {
         "name": "_deepnote_index_column",
         "dtype": "int64"
        }
       ],
       "rows": [
        {
         "Employment": "Independent contractor, freelancer, or self-employed",
         "Country": "Slovakia",
         "EdLevel": "Secondary school (e.g. American high school, German Realschule or Gymnasium, etc.)",
         "YearsCodePro": "nan",
         "ConvertedCompYearly": 62268,
         "_deepnote_index_column": 0
        },
        {
         "Employment": "Student, full-time",
         "Country": "Netherlands",
         "EdLevel": "Bachelor’s degree (B.A., B.S., B.Eng., etc.)",
         "YearsCodePro": "nan",
         "ConvertedCompYearly": "nan",
         "_deepnote_index_column": 1
        },
        {
         "Employment": "Student, full-time",
         "Country": "Russian Federation",
         "EdLevel": "Bachelor’s degree (B.A., B.S., B.Eng., etc.)",
         "YearsCodePro": "nan",
         "ConvertedCompYearly": "nan",
         "_deepnote_index_column": 2
        },
        {
         "Employment": "Employed full-time",
         "Country": "Austria",
         "EdLevel": "Master’s degree (M.A., M.S., M.Eng., MBA, etc.)",
         "YearsCodePro": "nan",
         "ConvertedCompYearly": "nan",
         "_deepnote_index_column": 3
        },
        {
         "Employment": "Independent contractor, freelancer, or self-employed",
         "Country": "United Kingdom of Great Britain and Northern Ireland",
         "EdLevel": "Master’s degree (M.A., M.S., M.Eng., MBA, etc.)",
         "YearsCodePro": "10",
         "ConvertedCompYearly": "nan",
         "_deepnote_index_column": 4
        }
       ]
      },
      "text/plain": "                                          Employment  \\\n0  Independent contractor, freelancer, or self-em...   \n1                                 Student, full-time   \n2                                 Student, full-time   \n3                                 Employed full-time   \n4  Independent contractor, freelancer, or self-em...   \n\n                                             Country  \\\n0                                           Slovakia   \n1                                        Netherlands   \n2                                 Russian Federation   \n3                                            Austria   \n4  United Kingdom of Great Britain and Northern I...   \n\n                                             EdLevel YearsCodePro  \\\n0  Secondary school (e.g. American high school, G...          NaN   \n1       Bachelor’s degree (B.A., B.S., B.Eng., etc.)          NaN   \n2       Bachelor’s degree (B.A., B.S., B.Eng., etc.)          NaN   \n3    Master’s degree (M.A., M.S., M.Eng., MBA, etc.)          NaN   \n4    Master’s degree (M.A., M.S., M.Eng., MBA, etc.)           10   \n\n   ConvertedCompYearly  \n0              62268.0  \n1                  NaN  \n2                  NaN  \n3                  NaN  \n4                  NaN  ",
      "text/html": "<div>\n<style scoped>\n    .dataframe tbody tr th:only-of-type {\n        vertical-align: middle;\n    }\n\n    .dataframe tbody tr th {\n        vertical-align: top;\n    }\n\n    .dataframe thead th {\n        text-align: right;\n    }\n</style>\n<table border=\"1\" class=\"dataframe\">\n  <thead>\n    <tr style=\"text-align: right;\">\n      <th></th>\n      <th>Employment</th>\n      <th>Country</th>\n      <th>EdLevel</th>\n      <th>YearsCodePro</th>\n      <th>ConvertedCompYearly</th>\n    </tr>\n  </thead>\n  <tbody>\n    <tr>\n      <th>0</th>\n      <td>Independent contractor, freelancer, or self-em...</td>\n      <td>Slovakia</td>\n      <td>Secondary school (e.g. American high school, G...</td>\n      <td>NaN</td>\n      <td>62268.0</td>\n    </tr>\n    <tr>\n      <th>1</th>\n      <td>Student, full-time</td>\n      <td>Netherlands</td>\n      <td>Bachelor’s degree (B.A., B.S., B.Eng., etc.)</td>\n      <td>NaN</td>\n      <td>NaN</td>\n    </tr>\n    <tr>\n      <th>2</th>\n      <td>Student, full-time</td>\n      <td>Russian Federation</td>\n      <td>Bachelor’s degree (B.A., B.S., B.Eng., etc.)</td>\n      <td>NaN</td>\n      <td>NaN</td>\n    </tr>\n    <tr>\n      <th>3</th>\n      <td>Employed full-time</td>\n      <td>Austria</td>\n      <td>Master’s degree (M.A., M.S., M.Eng., MBA, etc.)</td>\n      <td>NaN</td>\n      <td>NaN</td>\n    </tr>\n    <tr>\n      <th>4</th>\n      <td>Independent contractor, freelancer, or self-em...</td>\n      <td>United Kingdom of Great Britain and Northern I...</td>\n      <td>Master’s degree (M.A., M.S., M.Eng., MBA, etc.)</td>\n      <td>10</td>\n      <td>NaN</td>\n    </tr>\n  </tbody>\n</table>\n</div>"
     },
     "metadata": {}
    }
   ]
  },
  {
   "cell_type": "code",
   "metadata": {
    "cell_id": "7defc1ee-7f3f-4448-9af2-b5fa256c9f8c",
    "tags": [],
    "deepnote_to_be_reexecuted": false,
    "source_hash": "e5c60b60",
    "execution_start": 1646128702623,
    "execution_millis": 31,
    "deepnote_cell_type": "code"
   },
   "source": "df = df.rename({'ConvertedCompYearly': 'Salary'}, axis=1)\ndf.head()",
   "execution_count": 4,
   "outputs": [
    {
     "output_type": "execute_result",
     "execution_count": 4,
     "data": {
      "application/vnd.deepnote.dataframe.v3+json": {
       "column_count": 5,
       "row_count": 5,
       "columns": [
        {
         "name": "Employment",
         "dtype": "object",
         "stats": {
          "unique_count": 3,
          "nan_count": 0,
          "categories": [
           {
            "name": "Independent contractor, freelancer, or self-employed",
            "count": 2
           },
           {
            "name": "Student, full-time",
            "count": 2
           },
           {
            "name": "Employed full-time",
            "count": 1
           }
          ]
         }
        },
        {
         "name": "Country",
         "dtype": "object",
         "stats": {
          "unique_count": 5,
          "nan_count": 0,
          "categories": [
           {
            "name": "Slovakia",
            "count": 1
           },
           {
            "name": "Netherlands",
            "count": 1
           },
           {
            "name": "3 others",
            "count": 3
           }
          ]
         }
        },
        {
         "name": "EdLevel",
         "dtype": "object",
         "stats": {
          "unique_count": 3,
          "nan_count": 0,
          "categories": [
           {
            "name": "Bachelor’s degree (B.A., B.S., B.Eng., etc.)",
            "count": 2
           },
           {
            "name": "Master’s degree (M.A., M.S., M.Eng., MBA, etc.)",
            "count": 2
           },
           {
            "name": "Secondary school (e.g. American high school, German Realschule or Gymnasium, etc.)",
            "count": 1
           }
          ]
         }
        },
        {
         "name": "YearsCodePro",
         "dtype": "object",
         "stats": {
          "unique_count": 1,
          "nan_count": 4,
          "categories": [
           {
            "name": "10",
            "count": 1
           },
           {
            "name": "Missing",
            "count": 4
           }
          ]
         }
        },
        {
         "name": "Salary",
         "dtype": "float64",
         "stats": {
          "unique_count": 1,
          "nan_count": 4,
          "min": "62268.0",
          "max": "62268.0",
          "histogram": [
           {
            "bin_start": 62267.5,
            "bin_end": 62267.6,
            "count": 0
           },
           {
            "bin_start": 62267.6,
            "bin_end": 62267.7,
            "count": 0
           },
           {
            "bin_start": 62267.7,
            "bin_end": 62267.8,
            "count": 0
           },
           {
            "bin_start": 62267.8,
            "bin_end": 62267.9,
            "count": 0
           },
           {
            "bin_start": 62267.9,
            "bin_end": 62268,
            "count": 0
           },
           {
            "bin_start": 62268,
            "bin_end": 62268.1,
            "count": 1
           },
           {
            "bin_start": 62268.1,
            "bin_end": 62268.2,
            "count": 0
           },
           {
            "bin_start": 62268.2,
            "bin_end": 62268.3,
            "count": 0
           },
           {
            "bin_start": 62268.3,
            "bin_end": 62268.4,
            "count": 0
           },
           {
            "bin_start": 62268.4,
            "bin_end": 62268.5,
            "count": 0
           }
          ]
         }
        },
        {
         "name": "_deepnote_index_column",
         "dtype": "int64"
        }
       ],
       "rows": [
        {
         "Employment": "Independent contractor, freelancer, or self-employed",
         "Country": "Slovakia",
         "EdLevel": "Secondary school (e.g. American high school, German Realschule or Gymnasium, etc.)",
         "YearsCodePro": "nan",
         "Salary": 62268,
         "_deepnote_index_column": 0
        },
        {
         "Employment": "Student, full-time",
         "Country": "Netherlands",
         "EdLevel": "Bachelor’s degree (B.A., B.S., B.Eng., etc.)",
         "YearsCodePro": "nan",
         "Salary": "nan",
         "_deepnote_index_column": 1
        },
        {
         "Employment": "Student, full-time",
         "Country": "Russian Federation",
         "EdLevel": "Bachelor’s degree (B.A., B.S., B.Eng., etc.)",
         "YearsCodePro": "nan",
         "Salary": "nan",
         "_deepnote_index_column": 2
        },
        {
         "Employment": "Employed full-time",
         "Country": "Austria",
         "EdLevel": "Master’s degree (M.A., M.S., M.Eng., MBA, etc.)",
         "YearsCodePro": "nan",
         "Salary": "nan",
         "_deepnote_index_column": 3
        },
        {
         "Employment": "Independent contractor, freelancer, or self-employed",
         "Country": "United Kingdom of Great Britain and Northern Ireland",
         "EdLevel": "Master’s degree (M.A., M.S., M.Eng., MBA, etc.)",
         "YearsCodePro": "10",
         "Salary": "nan",
         "_deepnote_index_column": 4
        }
       ]
      },
      "text/plain": "                                          Employment  \\\n0  Independent contractor, freelancer, or self-em...   \n1                                 Student, full-time   \n2                                 Student, full-time   \n3                                 Employed full-time   \n4  Independent contractor, freelancer, or self-em...   \n\n                                             Country  \\\n0                                           Slovakia   \n1                                        Netherlands   \n2                                 Russian Federation   \n3                                            Austria   \n4  United Kingdom of Great Britain and Northern I...   \n\n                                             EdLevel YearsCodePro   Salary  \n0  Secondary school (e.g. American high school, G...          NaN  62268.0  \n1       Bachelor’s degree (B.A., B.S., B.Eng., etc.)          NaN      NaN  \n2       Bachelor’s degree (B.A., B.S., B.Eng., etc.)          NaN      NaN  \n3    Master’s degree (M.A., M.S., M.Eng., MBA, etc.)          NaN      NaN  \n4    Master’s degree (M.A., M.S., M.Eng., MBA, etc.)           10      NaN  ",
      "text/html": "<div>\n<style scoped>\n    .dataframe tbody tr th:only-of-type {\n        vertical-align: middle;\n    }\n\n    .dataframe tbody tr th {\n        vertical-align: top;\n    }\n\n    .dataframe thead th {\n        text-align: right;\n    }\n</style>\n<table border=\"1\" class=\"dataframe\">\n  <thead>\n    <tr style=\"text-align: right;\">\n      <th></th>\n      <th>Employment</th>\n      <th>Country</th>\n      <th>EdLevel</th>\n      <th>YearsCodePro</th>\n      <th>Salary</th>\n    </tr>\n  </thead>\n  <tbody>\n    <tr>\n      <th>0</th>\n      <td>Independent contractor, freelancer, or self-em...</td>\n      <td>Slovakia</td>\n      <td>Secondary school (e.g. American high school, G...</td>\n      <td>NaN</td>\n      <td>62268.0</td>\n    </tr>\n    <tr>\n      <th>1</th>\n      <td>Student, full-time</td>\n      <td>Netherlands</td>\n      <td>Bachelor’s degree (B.A., B.S., B.Eng., etc.)</td>\n      <td>NaN</td>\n      <td>NaN</td>\n    </tr>\n    <tr>\n      <th>2</th>\n      <td>Student, full-time</td>\n      <td>Russian Federation</td>\n      <td>Bachelor’s degree (B.A., B.S., B.Eng., etc.)</td>\n      <td>NaN</td>\n      <td>NaN</td>\n    </tr>\n    <tr>\n      <th>3</th>\n      <td>Employed full-time</td>\n      <td>Austria</td>\n      <td>Master’s degree (M.A., M.S., M.Eng., MBA, etc.)</td>\n      <td>NaN</td>\n      <td>NaN</td>\n    </tr>\n    <tr>\n      <th>4</th>\n      <td>Independent contractor, freelancer, or self-em...</td>\n      <td>United Kingdom of Great Britain and Northern I...</td>\n      <td>Master’s degree (M.A., M.S., M.Eng., MBA, etc.)</td>\n      <td>10</td>\n      <td>NaN</td>\n    </tr>\n  </tbody>\n</table>\n</div>"
     },
     "metadata": {}
    }
   ]
  },
  {
   "cell_type": "code",
   "metadata": {
    "cell_id": "9f0ce72c-defa-4620-a526-5f428309c4d6",
    "tags": [],
    "deepnote_to_be_reexecuted": false,
    "source_hash": "b2905c",
    "execution_start": 1646128702707,
    "execution_millis": 48,
    "deepnote_cell_type": "code"
   },
   "source": "df = df[df['Salary'].notnull()]\ndf.head()",
   "execution_count": 5,
   "outputs": [
    {
     "output_type": "execute_result",
     "execution_count": 5,
     "data": {
      "application/vnd.deepnote.dataframe.v3+json": {
       "column_count": 5,
       "row_count": 5,
       "columns": [
        {
         "name": "Employment",
         "dtype": "object",
         "stats": {
          "unique_count": 2,
          "nan_count": 0,
          "categories": [
           {
            "name": "Employed full-time",
            "count": 4
           },
           {
            "name": "Independent contractor, freelancer, or self-employed",
            "count": 1
           }
          ]
         }
        },
        {
         "name": "Country",
         "dtype": "object",
         "stats": {
          "unique_count": 5,
          "nan_count": 0,
          "categories": [
           {
            "name": "Slovakia",
            "count": 1
           },
           {
            "name": "Sweden",
            "count": 1
           },
           {
            "name": "3 others",
            "count": 3
           }
          ]
         }
        },
        {
         "name": "EdLevel",
         "dtype": "object",
         "stats": {
          "unique_count": 3,
          "nan_count": 0,
          "categories": [
           {
            "name": "Master’s degree (M.A., M.S., M.Eng., MBA, etc.)",
            "count": 2
           },
           {
            "name": "Bachelor’s degree (B.A., B.S., B.Eng., etc.)",
            "count": 2
           },
           {
            "name": "Secondary school (e.g. American high school, German Realschule or Gymnasium, etc.)",
            "count": 1
           }
          ]
         }
        },
        {
         "name": "YearsCodePro",
         "dtype": "object",
         "stats": {
          "unique_count": 4,
          "nan_count": 1,
          "categories": [
           {
            "name": "4",
            "count": 1
           },
           {
            "name": "3 others",
            "count": 3
           },
           {
            "name": "Missing",
            "count": 1
           }
          ]
         }
        },
        {
         "name": "Salary",
         "dtype": "float64",
         "stats": {
          "unique_count": 5,
          "nan_count": 0,
          "min": "17748.0",
          "max": "77290.0",
          "histogram": [
           {
            "bin_start": 17748,
            "bin_end": 23702.2,
            "count": 1
           },
           {
            "bin_start": 23702.2,
            "bin_end": 29656.4,
            "count": 0
           },
           {
            "bin_start": 29656.4,
            "bin_end": 35610.6,
            "count": 0
           },
           {
            "bin_start": 35610.6,
            "bin_end": 41564.8,
            "count": 0
           },
           {
            "bin_start": 41564.8,
            "bin_end": 47519,
            "count": 1
           },
           {
            "bin_start": 47519,
            "bin_end": 53473.2,
            "count": 1
           },
           {
            "bin_start": 53473.2,
            "bin_end": 59427.4,
            "count": 0
           },
           {
            "bin_start": 59427.4,
            "bin_end": 65381.6,
            "count": 1
           },
           {
            "bin_start": 65381.6,
            "bin_end": 71335.79999999999,
            "count": 0
           },
           {
            "bin_start": 71335.79999999999,
            "bin_end": 77290,
            "count": 1
           }
          ]
         }
        },
        {
         "name": "_deepnote_index_column",
         "dtype": "int64"
        }
       ],
       "rows": [
        {
         "Employment": "Independent contractor, freelancer, or self-employed",
         "Country": "Slovakia",
         "EdLevel": "Secondary school (e.g. American high school, German Realschule or Gymnasium, etc.)",
         "YearsCodePro": "nan",
         "Salary": 62268,
         "_deepnote_index_column": 0
        },
        {
         "Employment": "Employed full-time",
         "Country": "Sweden",
         "EdLevel": "Master’s degree (M.A., M.S., M.Eng., MBA, etc.)",
         "YearsCodePro": "4",
         "Salary": 51552,
         "_deepnote_index_column": 9
        },
        {
         "Employment": "Employed full-time",
         "Country": "Spain",
         "EdLevel": "Bachelor’s degree (B.A., B.S., B.Eng., etc.)",
         "YearsCodePro": "5",
         "Salary": 46482,
         "_deepnote_index_column": 11
        },
        {
         "Employment": "Employed full-time",
         "Country": "Germany",
         "EdLevel": "Master’s degree (M.A., M.S., M.Eng., MBA, etc.)",
         "YearsCodePro": "6",
         "Salary": 77290,
         "_deepnote_index_column": 12
        },
        {
         "Employment": "Employed full-time",
         "Country": "Turkey",
         "EdLevel": "Bachelor’s degree (B.A., B.S., B.Eng., etc.)",
         "YearsCodePro": "2",
         "Salary": 17748,
         "_deepnote_index_column": 16
        }
       ]
      },
      "text/plain": "                                           Employment   Country  \\\n0   Independent contractor, freelancer, or self-em...  Slovakia   \n9                                  Employed full-time    Sweden   \n11                                 Employed full-time     Spain   \n12                                 Employed full-time   Germany   \n16                                 Employed full-time    Turkey   \n\n                                              EdLevel YearsCodePro   Salary  \n0   Secondary school (e.g. American high school, G...          NaN  62268.0  \n9     Master’s degree (M.A., M.S., M.Eng., MBA, etc.)            4  51552.0  \n11       Bachelor’s degree (B.A., B.S., B.Eng., etc.)            5  46482.0  \n12    Master’s degree (M.A., M.S., M.Eng., MBA, etc.)            6  77290.0  \n16       Bachelor’s degree (B.A., B.S., B.Eng., etc.)            2  17748.0  ",
      "text/html": "<div>\n<style scoped>\n    .dataframe tbody tr th:only-of-type {\n        vertical-align: middle;\n    }\n\n    .dataframe tbody tr th {\n        vertical-align: top;\n    }\n\n    .dataframe thead th {\n        text-align: right;\n    }\n</style>\n<table border=\"1\" class=\"dataframe\">\n  <thead>\n    <tr style=\"text-align: right;\">\n      <th></th>\n      <th>Employment</th>\n      <th>Country</th>\n      <th>EdLevel</th>\n      <th>YearsCodePro</th>\n      <th>Salary</th>\n    </tr>\n  </thead>\n  <tbody>\n    <tr>\n      <th>0</th>\n      <td>Independent contractor, freelancer, or self-em...</td>\n      <td>Slovakia</td>\n      <td>Secondary school (e.g. American high school, G...</td>\n      <td>NaN</td>\n      <td>62268.0</td>\n    </tr>\n    <tr>\n      <th>9</th>\n      <td>Employed full-time</td>\n      <td>Sweden</td>\n      <td>Master’s degree (M.A., M.S., M.Eng., MBA, etc.)</td>\n      <td>4</td>\n      <td>51552.0</td>\n    </tr>\n    <tr>\n      <th>11</th>\n      <td>Employed full-time</td>\n      <td>Spain</td>\n      <td>Bachelor’s degree (B.A., B.S., B.Eng., etc.)</td>\n      <td>5</td>\n      <td>46482.0</td>\n    </tr>\n    <tr>\n      <th>12</th>\n      <td>Employed full-time</td>\n      <td>Germany</td>\n      <td>Master’s degree (M.A., M.S., M.Eng., MBA, etc.)</td>\n      <td>6</td>\n      <td>77290.0</td>\n    </tr>\n    <tr>\n      <th>16</th>\n      <td>Employed full-time</td>\n      <td>Turkey</td>\n      <td>Bachelor’s degree (B.A., B.S., B.Eng., etc.)</td>\n      <td>2</td>\n      <td>17748.0</td>\n    </tr>\n  </tbody>\n</table>\n</div>"
     },
     "metadata": {}
    }
   ]
  },
  {
   "cell_type": "code",
   "metadata": {
    "cell_id": "f45c706a-cfa1-496c-bd13-2817a8f7c63a",
    "tags": [],
    "deepnote_to_be_reexecuted": false,
    "source_hash": "de1e323c",
    "execution_start": 1646128702753,
    "execution_millis": 2,
    "deepnote_cell_type": "code"
   },
   "source": "df.info()",
   "execution_count": 6,
   "outputs": [
    {
     "name": "stdout",
     "text": "<class 'pandas.core.frame.DataFrame'>\nInt64Index: 46844 entries, 0 to 83438\nData columns (total 5 columns):\n #   Column        Non-Null Count  Dtype  \n---  ------        --------------  -----  \n 0   Employment    46831 non-null  object \n 1   Country       46844 non-null  object \n 2   EdLevel       46823 non-null  object \n 3   YearsCodePro  46391 non-null  object \n 4   Salary        46844 non-null  float64\ndtypes: float64(1), object(4)\nmemory usage: 2.1+ MB\n",
     "output_type": "stream"
    }
   ]
  },
  {
   "cell_type": "code",
   "metadata": {
    "cell_id": "576c5345-967e-459d-9f84-12a6a511e02b",
    "tags": [],
    "deepnote_to_be_reexecuted": false,
    "source_hash": "6a8370ed",
    "execution_start": 1646128702759,
    "execution_millis": 485,
    "deepnote_cell_type": "code"
   },
   "source": "df =df.dropna()\ndf.isnull().sum()",
   "execution_count": 7,
   "outputs": [
    {
     "output_type": "execute_result",
     "execution_count": 7,
     "data": {
      "text/plain": "Employment      0\nCountry         0\nEdLevel         0\nYearsCodePro    0\nSalary          0\ndtype: int64"
     },
     "metadata": {}
    }
   ]
  },
  {
   "cell_type": "code",
   "metadata": {
    "cell_id": "60e5d09e-976f-475f-98e8-0977ac785680",
    "tags": [],
    "deepnote_to_be_reexecuted": false,
    "source_hash": "e92b78fd",
    "execution_start": 1646128702825,
    "execution_millis": 434,
    "deepnote_cell_type": "code"
   },
   "source": "# df = df[df['Employment'] == 'Employment full-time']\n# df = df.drop('Employment', axis=1)\n# df.info()\n\ndf = df[df[\"Employment\"] == \"Employed full-time\"]\ndf = df.drop(\"Employment\", axis=1)\ndf.info()",
   "execution_count": 8,
   "outputs": [
    {
     "name": "stdout",
     "text": "<class 'pandas.core.frame.DataFrame'>\nInt64Index: 40211 entries, 9 to 83438\nData columns (total 4 columns):\n #   Column        Non-Null Count  Dtype  \n---  ------        --------------  -----  \n 0   Country       40211 non-null  object \n 1   EdLevel       40211 non-null  object \n 2   YearsCodePro  40211 non-null  object \n 3   Salary        40211 non-null  float64\ndtypes: float64(1), object(3)\nmemory usage: 1.5+ MB\n",
     "output_type": "stream"
    }
   ]
  },
  {
   "cell_type": "code",
   "metadata": {
    "cell_id": "bbe895a2-bdb6-4580-bc67-045caaa66301",
    "tags": [],
    "deepnote_to_be_reexecuted": false,
    "source_hash": "3074e117",
    "execution_start": 1646128702904,
    "execution_millis": 356,
    "deepnote_cell_type": "code"
   },
   "source": "# df.head()\ndf['Country'].value_counts()\n",
   "execution_count": 9,
   "outputs": [
    {
     "output_type": "execute_result",
     "execution_count": 9,
     "data": {
      "text/plain": "United States of America                                9175\nIndia                                                   3385\nGermany                                                 2753\nUnited Kingdom of Great Britain and Northern Ireland    2604\nCanada                                                  1553\n                                                        ... \nLesotho                                                    1\nSomalia                                                    1\nSan Marino                                                 1\nBurundi                                                    1\nSaint Vincent and the Grenadines                           1\nName: Country, Length: 166, dtype: int64"
     },
     "metadata": {}
    }
   ]
  },
  {
   "cell_type": "code",
   "metadata": {
    "cell_id": "16ee7fe1-2bd7-4c74-a76c-0f025c7a7d97",
    "tags": [],
    "deepnote_to_be_reexecuted": false,
    "source_hash": "89d44107",
    "execution_start": 1646128702930,
    "execution_millis": 16,
    "deepnote_cell_type": "code"
   },
   "source": "def shorten_categories(categories, cutoff):\n    categorical_map = {}\n    for i in range(len(categories)):\n        if categories.values[i] >= cutoff:\n            categorical_map[categories.index[i]] = categories.index[i]\n        else:\n            categorical_map[categories.index[i]] = 'Other'\n    return categorical_map",
   "execution_count": 10,
   "outputs": []
  },
  {
   "cell_type": "code",
   "metadata": {
    "cell_id": "24bed886-5028-4a7f-a616-85972e80eb04",
    "tags": [],
    "deepnote_to_be_reexecuted": false,
    "source_hash": "c78c970",
    "execution_start": 1646128702956,
    "execution_millis": 306,
    "deepnote_cell_type": "code"
   },
   "source": "country_map = shorten_categories(df.Country.value_counts(), 400)\ndf['Country'] = df['Country'].map(country_map)\ndf.Country.value_counts()",
   "execution_count": 11,
   "outputs": [
    {
     "output_type": "execute_result",
     "execution_count": 11,
     "data": {
      "text/plain": "Other                                                   10725\nUnited States of America                                 9175\nIndia                                                    3385\nGermany                                                  2753\nUnited Kingdom of Great Britain and Northern Ireland     2604\nCanada                                                   1553\nFrance                                                   1396\nBrazil                                                   1340\nSpain                                                     890\nNetherlands                                               835\nAustralia                                                 825\nPoland                                                    775\nItaly                                                     756\nRussian Federation                                        741\nSweden                                                    735\nTurkey                                                    458\nSwitzerland                                               438\nIsrael                                                    425\nNorway                                                    402\nName: Country, dtype: int64"
     },
     "metadata": {}
    }
   ]
  },
  {
   "cell_type": "code",
   "metadata": {
    "cell_id": "62b3c838-4163-40a5-aaab-f1d175591d73",
    "tags": [],
    "deepnote_to_be_reexecuted": false,
    "source_hash": "577d7efa",
    "execution_start": 1646128703032,
    "execution_millis": 1226,
    "deepnote_cell_type": "code"
   },
   "source": "fig, ax = plt.subplots(1,1, figsize=(12, 7))\ndf.boxplot('Salary', 'Country', ax=ax)\nplt.title('Salary (US$) v Country')\nplt.ylabel('Salary')\nplt.xlabel('Country')\nplt.xticks(rotation=90)\nplt.show()\nplt.tight_layout()",
   "execution_count": 12,
   "outputs": [
    {
     "data": {
      "text/plain": "<Figure size 864x504 with 1 Axes>",
      "image/png": "[encoded data removed]"
     },
     "metadata": {
      "needs_background": "light",
      "image/png": {
       "width": 742,
       "height": 721
      }
     },
     "output_type": "display_data"
    },
    {
     "data": {
      "text/plain": "<Figure size 432x288 with 0 Axes>"
     },
     "metadata": {},
     "output_type": "display_data"
    }
   ]
  },
  {
   "cell_type": "code",
   "metadata": {
    "cell_id": "cfec438c-16bb-45d9-83ea-1aea5aa461c0",
    "tags": [],
    "deepnote_to_be_reexecuted": false,
    "source_hash": "bbada626",
    "execution_start": 1646128704256,
    "execution_millis": 1,
    "deepnote_cell_type": "code"
   },
   "source": "df = df[df[\"Salary\"] <= 250000]\ndf = df[df[\"Salary\"] >= 10000]\ndf = df[df['Country'] != 'Other']",
   "execution_count": 13,
   "outputs": []
  },
  {
   "cell_type": "code",
   "metadata": {
    "cell_id": "df0077ac-a625-4979-b648-06a37837677d",
    "tags": [],
    "deepnote_to_be_reexecuted": false,
    "source_hash": "7fed372a",
    "execution_start": 1646128704299,
    "execution_millis": 1017,
    "deepnote_cell_type": "code"
   },
   "source": "fig, ax = plt.subplots(1,1, figsize=(12, 7))\ndf.boxplot('Salary', 'Country', ax=ax)\nplt.suptitle('Salary (US$) v Country')\nplt.title('')\nplt.ylabel('Salary')\nplt.xticks(rotation=90)\nplt.show()",
   "execution_count": 14,
   "outputs": [
    {
     "data": {
      "text/plain": "<Figure size 864x504 with 1 Axes>",
      "image/png": "[encoded data removed]"
     },
     "metadata": {
      "needs_background": "light",
      "image/png": {
       "width": 764,
       "height": 721
      }
     },
     "output_type": "display_data"
    }
   ]
  },
  {
   "cell_type": "code",
   "metadata": {
    "cell_id": "a6ce21ac-535f-457f-a86b-d3e0f44eb816",
    "tags": [],
    "deepnote_to_be_reexecuted": false,
    "source_hash": "a151dbd3",
    "execution_start": 1646128705351,
    "execution_millis": 426,
    "deepnote_cell_type": "code"
   },
   "source": "df[\"YearsCodePro\"].unique()",
   "execution_count": 15,
   "outputs": [
    {
     "output_type": "execute_result",
     "execution_count": 15,
     "data": {
      "text/plain": "array(['4', '5', '6', '2', '18', '21', '16', '10', 'Less than 1 year',\n       '3', '15', '12', '8', '17', '1', '14', '26', '34', '11', '25',\n       '24', '22', '13', '9', '7', '39', '20', '27', '23', '30', '19',\n       '35', '33', '37', '43', '40', '29', '38', '31', '42', '28', '46',\n       '32', '36', '47', '45', '44', '41', 'More than 50 years', '50',\n       '49', '48'], dtype=object)"
     },
     "metadata": {}
    }
   ]
  },
  {
   "cell_type": "code",
   "metadata": {
    "cell_id": "a8c16c9b-0c70-47f9-a39f-3159fdcddc8a",
    "deepnote_variable_name": "input_1",
    "deepnote_variable_value": "Next, I want to clean the 'YearsCodePro'. From the values we can see 'Less than 1 year', we can change that to 0.5 and those with 'More than 50 years', we can put them as integer 50years",
    "deepnote_to_be_reexecuted": false,
    "source_hash": "a52c715",
    "execution_start": 1646128705396,
    "execution_millis": 1441155,
    "deepnote_cell_type": "input-text"
   },
   "source": "input_1 = 'Next, I want to clean the \\'YearsCodePro\\'. From the values we can see \\'Less than 1 year\\', we can change that to 0.5 and those with \\'More than 50 years\\', we can put them as integer 50years'",
   "execution_count": 16,
   "outputs": []
  },
  {
   "cell_type": "code",
   "metadata": {
    "cell_id": "a333077c-59c5-4da9-bc2d-dbf98dc3adc4",
    "tags": [],
    "deepnote_to_be_reexecuted": false,
    "source_hash": "6eb92057",
    "execution_start": 1646128705396,
    "execution_millis": 1,
    "deepnote_cell_type": "code"
   },
   "source": "def cleanexperience(x):\n    if x == 'More than 50 years':\n        return 50\n    else:\n        x = 'Less than 1 year'\n        return 0.5\n        return float(x)\n\ndf['YearsCodePro'] = df['YearsCodePro'].apply(cleanexperience)",
   "execution_count": 17,
   "outputs": []
  },
  {
   "cell_type": "code",
   "metadata": {
    "cell_id": "acbb3ad2-c194-4bd7-9f5e-44077b53a5cc",
    "tags": [],
    "deepnote_to_be_reexecuted": false,
    "source_hash": "254cdadb",
    "execution_start": 1646128705397,
    "execution_millis": 437,
    "deepnote_cell_type": "code"
   },
   "source": "df[\"EdLevel\"].unique()",
   "execution_count": 18,
   "outputs": [
    {
     "output_type": "execute_result",
     "execution_count": 18,
     "data": {
      "text/plain": "array(['Master’s degree (M.A., M.S., M.Eng., MBA, etc.)',\n       'Bachelor’s degree (B.A., B.S., B.Eng., etc.)',\n       'Professional degree (JD, MD, etc.)',\n       'Some college/university study without earning a degree',\n       'Other doctoral degree (Ph.D., Ed.D., etc.)', 'Something else',\n       'Primary/elementary school', 'Associate degree (A.A., A.S., etc.)',\n       'Secondary school (e.g. American high school, German Realschule or Gymnasium, etc.)'],\n      dtype=object)"
     },
     "metadata": {}
    }
   ]
  },
  {
   "cell_type": "code",
   "metadata": {
    "cell_id": "f3277288-e73b-4ce2-8fc3-dd995c6b603b",
    "deepnote_variable_name": "input_2",
    "deepnote_variable_value": "Next, I would clean the Education level. We do not need the certificates (M.A,M.Eng,  B.A) and those not up to Bachelor's we assign a new variable or name.  ",
    "deepnote_to_be_reexecuted": false,
    "source_hash": "a7926e67",
    "execution_start": 1646128705440,
    "execution_millis": 1,
    "deepnote_cell_type": "input-text"
   },
   "source": "input_2 = 'Next, I would clean the Education level. We do not need the certificates (M.A,M.Eng,  B.A) and those not up to Bachelor\\'s we assign a new variable or name.  '",
   "execution_count": 19,
   "outputs": []
  },
  {
   "cell_type": "code",
   "metadata": {
    "cell_id": "901b6077-fc28-4034-8712-5cfe497f6955",
    "tags": [],
    "deepnote_to_be_reexecuted": false,
    "source_hash": "41fb0ef7",
    "execution_start": 1646128705455,
    "execution_millis": 21,
    "deepnote_cell_type": "code"
   },
   "source": "def clean_education(x):\n    if 'Bachelor’s degree' in x:\n        return 'Bachelor’s degree'\n    if 'Master’s degree' in x:\n        return 'Master’s degree'\n    if 'Professional degree' in x or 'Other doctoral' in x:\n        return 'Post grad'\n    return 'Less than a Bachelors'\n\ndf['EdLevel'] = df['EdLevel'].apply(clean_education)",
   "execution_count": 20,
   "outputs": []
  },
  {
   "cell_type": "code",
   "metadata": {
    "cell_id": "9af8a8dc-7d4a-440a-9425-2a8d136b3185",
    "tags": [],
    "deepnote_to_be_reexecuted": false,
    "source_hash": "e608f2cb",
    "execution_start": 1646128705493,
    "execution_millis": 343,
    "deepnote_cell_type": "code"
   },
   "source": "df[\"EdLevel\"].unique",
   "execution_count": 21,
   "outputs": [
    {
     "output_type": "execute_result",
     "execution_count": 21,
     "data": {
      "text/plain": "<bound method Series.unique of 9              Master’s degree\n11           Bachelor’s degree\n12             Master’s degree\n16           Bachelor’s degree\n17           Bachelor’s degree\n                 ...          \n83430          Master’s degree\n83432        Bachelor’s degree\n83434        Bachelor’s degree\n83436    Less than a Bachelors\n83438                Post grad\nName: EdLevel, Length: 26230, dtype: object>"
     },
     "metadata": {}
    }
   ]
  },
  {
   "cell_type": "code",
   "metadata": {
    "cell_id": "211a772a-e70e-4f3b-b2ca-d8779f6a8351",
    "deepnote_variable_name": "input_5",
    "deepnote_variable_value": "Next, I would be transforming the string values in Country, Edlevel, to numerical values using LabelEncoder",
    "deepnote_to_be_reexecuted": false,
    "source_hash": "b6def70b",
    "execution_start": 1646128705532,
    "execution_millis": 9,
    "deepnote_cell_type": "input-text"
   },
   "source": "input_5 = 'Next, I would be transforming the string values in Country, Edlevel, to numerical values using LabelEncoder'",
   "execution_count": 22,
   "outputs": []
  },
  {
   "cell_type": "code",
   "metadata": {
    "cell_id": "aac2020f-4b69-47d9-91bf-415b7e11f507",
    "tags": [],
    "deepnote_to_be_reexecuted": false,
    "source_hash": "4829ceb3",
    "execution_start": 1646128705554,
    "execution_millis": 360,
    "deepnote_cell_type": "code"
   },
   "source": "from sklearn.preprocessing import LabelEncoder\nle_education = LabelEncoder()\ndf['EdLevel'] = le_education.fit_transform(df['EdLevel'])\ndf[\"EdLevel\"].unique()\n#le.classes_",
   "execution_count": 23,
   "outputs": [
    {
     "output_type": "execute_result",
     "execution_count": 23,
     "data": {
      "text/plain": "array([2, 0, 3, 1])"
     },
     "metadata": {}
    }
   ]
  },
  {
   "cell_type": "code",
   "metadata": {
    "cell_id": "9b914f7b-1adb-4e33-b1cb-c0f7f18d7781",
    "tags": [],
    "deepnote_to_be_reexecuted": false,
    "source_hash": "96046d43",
    "execution_start": 1646128705940,
    "execution_millis": 13,
    "deepnote_cell_type": "code"
   },
   "source": "le_country = LabelEncoder()\ndf['Country'] = le_country.fit_transform(df['Country'])\ndf[\"Country\"].unique()",
   "execution_count": 24,
   "outputs": [
    {
     "output_type": "execute_result",
     "execution_count": 24,
     "data": {
      "text/plain": "array([13, 12,  4, 15,  2,  3, 14, 16, 11,  6, 17,  1,  7,  8, 10,  0,  5,\n        9])"
     },
     "metadata": {}
    }
   ]
  },
  {
   "cell_type": "code",
   "metadata": {
    "cell_id": "923e2282-990a-4b7f-8ca4-5bdd3e6a15ed",
    "deepnote_variable_name": "input_4",
    "deepnote_variable_value": "Since we are predicting Salary, we would drop the column 'Salary' and every other variable would be assigned to X, for training.",
    "deepnote_to_be_reexecuted": false,
    "source_hash": "f026cfc8",
    "execution_start": 1646128705961,
    "execution_millis": 8,
    "deepnote_cell_type": "input-text"
   },
   "source": "input_4 = 'Since we are predicting Salary, we would drop the column \\'Salary\\' and every other variable would be assigned to X, for training.'",
   "execution_count": 25,
   "outputs": []
  },
  {
   "cell_type": "code",
   "metadata": {
    "cell_id": "99faa2c9-f450-42f8-aa84-af9a1b0727fc",
    "tags": [],
    "deepnote_to_be_reexecuted": false,
    "source_hash": "6b3e2e6b",
    "execution_start": 1646128706016,
    "execution_millis": 21,
    "deepnote_cell_type": "code"
   },
   "source": "X = df.drop(\"Salary\", axis=1)\ny = df[\"Salary\"]\n# We would using the features X to train the data. ",
   "execution_count": 26,
   "outputs": []
  },
  {
   "cell_type": "code",
   "metadata": {
    "cell_id": "773a71d2-2179-4cd4-9797-cdde870d47f9",
    "deepnote_variable_name": "input_5",
    "deepnote_variable_value": "Since we are predicting Salaries, which is a continuous number. We would be using Linear Regression for prediction.",
    "deepnote_to_be_reexecuted": false,
    "source_hash": "6da6f613",
    "execution_start": 1646128706055,
    "execution_millis": 1441288,
    "deepnote_cell_type": "input-text"
   },
   "source": "input_5 = 'Since we are predicting Salaries, which is a continuous number. We would be using Linear Regression for prediction.'",
   "execution_count": 27,
   "outputs": []
  },
  {
   "cell_type": "code",
   "metadata": {
    "cell_id": "7b87aa32-47f7-4b9d-84b8-10bd7979d039",
    "tags": [],
    "deepnote_to_be_reexecuted": false,
    "source_hash": "a6f80cff",
    "execution_start": 1646128706074,
    "execution_millis": 285,
    "deepnote_cell_type": "code"
   },
   "source": "from sklearn.linear_model import LinearRegression\nlinear_reg = LinearRegression()\nlinear_reg.fit(X, y.values)",
   "execution_count": 28,
   "outputs": [
    {
     "output_type": "execute_result",
     "execution_count": 28,
     "data": {
      "text/plain": "LinearRegression()"
     },
     "metadata": {}
    }
   ]
  },
  {
   "cell_type": "code",
   "metadata": {
    "cell_id": "8752e3d8-c1d5-43db-9d15-dba9c96edd6f",
    "tags": [],
    "deepnote_to_be_reexecuted": false,
    "source_hash": "41ac9b44",
    "execution_start": 1646128706383,
    "execution_millis": 26,
    "deepnote_cell_type": "code"
   },
   "source": "y_pred = linear_reg.predict(X)",
   "execution_count": 29,
   "outputs": []
  },
  {
   "cell_type": "code",
   "metadata": {
    "cell_id": "e9876551-5928-46d7-9264-88b80dbf8d43",
    "tags": [],
    "deepnote_to_be_reexecuted": false,
    "source_hash": "577e14e7",
    "execution_start": 1646128706431,
    "execution_millis": 15,
    "deepnote_cell_type": "code"
   },
   "source": "from sklearn.metrics import mean_squared_error, mean_absolute_error\nimport numpy as np\nerror= np.sqrt(mean_squared_error(y, y_pred))",
   "execution_count": 30,
   "outputs": []
  },
  {
   "cell_type": "code",
   "metadata": {
    "cell_id": "1052fce0-1bfe-4085-a605-cba636bd8250",
    "tags": [],
    "deepnote_to_be_reexecuted": false,
    "source_hash": "e9306b17",
    "execution_start": 1646128706462,
    "execution_millis": 21,
    "deepnote_cell_type": "code"
   },
   "source": "error",
   "execution_count": 31,
   "outputs": [
    {
     "output_type": "execute_result",
     "execution_count": 31,
     "data": {
      "text/plain": "44536.09844287163"
     },
     "metadata": {}
    }
   ]
  },
  {
   "cell_type": "code",
   "metadata": {
    "cell_id": "7637423d-1c06-4ee6-bc2b-70a89d100c49",
    "deepnote_variable_name": "input_6",
    "deepnote_variable_value": "From the result of the error, using Linear Regression this is a really high rate of error. I would be using a different model to predict.",
    "deepnote_to_be_reexecuted": false,
    "source_hash": "fd30136a",
    "execution_start": 1646128706516,
    "execution_millis": 1441259,
    "deepnote_cell_type": "input-text"
   },
   "source": "input_6 = 'From the result of the error, using Linear Regression this is a really high rate of error. I would be using a different model to predict.'",
   "execution_count": 32,
   "outputs": []
  },
  {
   "cell_type": "code",
   "metadata": {
    "cell_id": "421a1f7e-da3f-41b5-91b0-f73685afad6e",
    "tags": [],
    "deepnote_to_be_reexecuted": false,
    "source_hash": "16b0920",
    "execution_start": 1646128706541,
    "execution_millis": 128,
    "deepnote_cell_type": "code"
   },
   "source": "from sklearn.tree import DecisionTreeRegressor\ndec_reg = DecisionTreeRegressor(random_state=0)\ndec_reg.fit(X, y.values)",
   "execution_count": 33,
   "outputs": [
    {
     "output_type": "execute_result",
     "execution_count": 33,
     "data": {
      "text/plain": "DecisionTreeRegressor(random_state=0)"
     },
     "metadata": {}
    }
   ]
  },
  {
   "cell_type": "code",
   "metadata": {
    "cell_id": "7bb770dd-535d-4246-a2c5-ce21b8315130",
    "tags": [],
    "deepnote_to_be_reexecuted": false,
    "source_hash": "304064a7",
    "execution_start": 1646128706682,
    "execution_millis": 6,
    "deepnote_cell_type": "code"
   },
   "source": "y_pred_dec = dec_reg.predict(X)",
   "execution_count": 34,
   "outputs": []
  },
  {
   "cell_type": "code",
   "metadata": {
    "cell_id": "e0b41846-83af-4552-ae2a-fe791e974ec5",
    "tags": [],
    "deepnote_to_be_reexecuted": false,
    "source_hash": "c149926b",
    "execution_start": 1646128706717,
    "execution_millis": 1441083,
    "deepnote_cell_type": "code"
   },
   "source": "dec_error = np.sqrt(mean_squared_error(y,y_pred_dec))\nprint('${:,.02f}'.format(dec_error))",
   "execution_count": 35,
   "outputs": [
    {
     "name": "stdout",
     "text": "$35,906.21\n",
     "output_type": "stream"
    }
   ]
  },
  {
   "cell_type": "code",
   "metadata": {
    "cell_id": "37018826-a453-45f9-9170-f29f71aae7eb",
    "deepnote_variable_name": "input_7",
    "deepnote_variable_value": "Comparing the error with that of Linear Regression model, this is a lot better but still on the high side. I would be trying another model this time Random Forest Regression",
    "deepnote_to_be_reexecuted": false,
    "source_hash": "b382e2f2",
    "execution_start": 1646128706745,
    "execution_millis": 1441075,
    "deepnote_cell_type": "input-text"
   },
   "source": "input_7 = 'Comparing the error with that of Linear Regression model, this is a lot better but still on the high side. I would be trying another model this time Random Forest Regression'",
   "execution_count": 36,
   "outputs": []
  },
  {
   "cell_type": "code",
   "metadata": {
    "cell_id": "f0a68c9f-7921-4d96-8022-58e61018e8b4",
    "tags": [],
    "deepnote_to_be_reexecuted": false,
    "source_hash": "7e7d3632",
    "execution_start": 1646128706764,
    "execution_millis": 971,
    "deepnote_cell_type": "code"
   },
   "source": "from sklearn.ensemble import RandomForestRegressor\nrandom_reg = RandomForestRegressor(random_state=0)\nrandom_reg.fit(X, y.values)",
   "execution_count": 37,
   "outputs": [
    {
     "output_type": "execute_result",
     "execution_count": 37,
     "data": {
      "text/plain": "RandomForestRegressor(random_state=0)"
     },
     "metadata": {}
    }
   ]
  },
  {
   "cell_type": "code",
   "metadata": {
    "cell_id": "f3b2c904-2caf-4704-8ee2-6d2a83145ec2",
    "tags": [],
    "deepnote_to_be_reexecuted": false,
    "source_hash": "151e7b91",
    "execution_start": 1646128707745,
    "execution_millis": 238,
    "deepnote_cell_type": "code"
   },
   "source": "y_pred_random = random_reg.predict(X)",
   "execution_count": 38,
   "outputs": []
  },
  {
   "cell_type": "code",
   "metadata": {
    "cell_id": "8154c999-2f04-487d-8b4a-2fdc99740575",
    "tags": [],
    "deepnote_to_be_reexecuted": false,
    "source_hash": "d32ec58c",
    "execution_start": 1646128707984,
    "execution_millis": 287,
    "deepnote_cell_type": "code"
   },
   "source": "error_ran = np.sqrt(mean_squared_error(y, y_pred_random))\nprint('${:,.02f}'.format(error_ran))",
   "execution_count": 39,
   "outputs": [
    {
     "name": "stdout",
     "text": "$35,907.32\n",
     "output_type": "stream"
    }
   ]
  },
  {
   "cell_type": "code",
   "metadata": {
    "cell_id": "1ce3f734-a600-44d4-a4f5-6aeaceb9964f",
    "deepnote_variable_name": "input_8",
    "deepnote_variable_value": "It is very similar to Decision Tree.",
    "deepnote_to_be_reexecuted": false,
    "source_hash": "68ae4df",
    "execution_start": 1646128708016,
    "execution_millis": 9,
    "deepnote_cell_type": "input-text"
   },
   "source": "input_8 = 'It is very similar to Decision Tree.'",
   "execution_count": 40,
   "outputs": []
  },
  {
   "cell_type": "code",
   "metadata": {
    "cell_id": "4a6803ec-3cba-4f22-aa07-6492fb2f4322",
    "tags": [],
    "deepnote_to_be_reexecuted": false,
    "source_hash": "8ecf397e",
    "execution_start": 1646128708036,
    "execution_millis": 721,
    "deepnote_cell_type": "code"
   },
   "source": "\nfrom sklearn.model_selection import GridSearchCV\n\nmax_depth = [None, 2,4,6,8,10,12]\nparameters = {\"max_depth\": max_depth}\n\nregressor = DecisionTreeRegressor(random_state=0)\ngs = GridSearchCV(regressor, parameters, scoring='neg_mean_squared_error')\ngs.fit(X, y.values)",
   "execution_count": 41,
   "outputs": [
    {
     "output_type": "execute_result",
     "execution_count": 41,
     "data": {
      "text/plain": "GridSearchCV(estimator=DecisionTreeRegressor(random_state=0),\n             param_grid={'max_depth': [None, 2, 4, 6, 8, 10, 12]},\n             scoring='neg_mean_squared_error')"
     },
     "metadata": {}
    }
   ]
  },
  {
   "cell_type": "code",
   "source": "input_9 = 'Using the GridSearch Cross Validation, this would help us choose the best parameter to give us the best possible prediction.'",
   "metadata": {
    "cell_id": "0b72e5fc-992b-436f-a9fa-78f715f286dd",
    "deepnote_variable_name": "input_9",
    "deepnote_variable_value": "Using the GridSearch Cross Validation, this would help us choose the best parameter to give us the best possible prediction.",
    "deepnote_to_be_reexecuted": false,
    "source_hash": "9878648e",
    "execution_start": 1646128708767,
    "execution_millis": 13,
    "deepnote_cell_type": "input-text"
   },
   "outputs": [],
   "execution_count": 42
  },
  {
   "cell_type": "code",
   "metadata": {
    "cell_id": "8799e313-cea0-4438-b99f-7a8fd0bc9787",
    "tags": [],
    "deepnote_to_be_reexecuted": false,
    "source_hash": "8856088",
    "execution_start": 1646128708788,
    "execution_millis": 37,
    "deepnote_cell_type": "code"
   },
   "source": "regressor = gs.best_estimator_\nregressor.fit(X, y.values)\nreg_y_pred = regressor.predict(X)\nreg_error = np.sqrt(mean_squared_error(y, reg_y_pred))\nprint('${:,.02f}'.format(reg_error))",
   "execution_count": 43,
   "outputs": [
    {
     "name": "stdout",
     "text": "$35,907.50\n",
     "output_type": "stream"
    }
   ]
  },
  {
   "cell_type": "code",
   "source": "input_10 = 'This is high compared to others and this is because the Decision Tree Regression is still picking based on randomness even after we have assigned random state as 0'",
   "metadata": {
    "cell_id": "f593f444-46b1-4bb5-926e-ed91aadfdf07",
    "deepnote_variable_name": "input_10",
    "deepnote_variable_value": "This is high compared to others and this is because the Decision Tree Regression is still picking based on randomness even after we have assigned random state as 0",
    "deepnote_to_be_reexecuted": false,
    "source_hash": "cb5ac88",
    "execution_start": 1646128708839,
    "execution_millis": 583225,
    "deepnote_cell_type": "input-text"
   },
   "outputs": [],
   "execution_count": 44
  },
  {
   "cell_type": "code",
   "metadata": {
    "cell_id": "b8485a67-03f8-4404-bef0-92c428bde396",
    "tags": [],
    "deepnote_to_be_reexecuted": false,
    "source_hash": "b2696ff6",
    "execution_start": 1646128708851,
    "execution_millis": 87,
    "deepnote_cell_type": "code"
   },
   "source": "X",
   "execution_count": 45,
   "outputs": [
    {
     "output_type": "execute_result",
     "execution_count": 45,
     "data": {
      "application/vnd.deepnote.dataframe.v3+json": {
       "column_count": 3,
       "row_count": 26230,
       "columns": [
        {
         "name": "Country",
         "dtype": "int64",
         "stats": {
          "unique_count": 18,
          "nan_count": 0,
          "min": "0",
          "max": "17",
          "histogram": [
           {
            "bin_start": 0,
            "bin_end": 1.7,
            "count": 1908
           },
           {
            "bin_start": 1.7,
            "bin_end": 3.4,
            "count": 2796
           },
           {
            "bin_start": 3.4,
            "bin_end": 5.1,
            "count": 4817
           },
           {
            "bin_start": 5.1,
            "bin_end": 6.8,
            "count": 414
           },
           {
            "bin_start": 6.8,
            "bin_end": 8.5,
            "count": 1498
           },
           {
            "bin_start": 8.5,
            "bin_end": 10.2,
            "count": 1126
           },
           {
            "bin_start": 10.2,
            "bin_end": 11.9,
            "count": 680
           },
           {
            "bin_start": 11.9,
            "bin_end": 13.6,
            "count": 1544
           },
           {
            "bin_start": 13.6,
            "bin_end": 15.299999999999999,
            "count": 799
           },
           {
            "bin_start": 15.299999999999999,
            "bin_end": 17,
            "count": 10648
           }
          ]
         }
        },
        {
         "name": "EdLevel",
         "dtype": "int64",
         "stats": {
          "unique_count": 4,
          "nan_count": 0,
          "min": "0",
          "max": "3",
          "histogram": [
           {
            "bin_start": 0,
            "bin_end": 0.3,
            "count": 12635
           },
           {
            "bin_start": 0.3,
            "bin_end": 0.6,
            "count": 0
           },
           {
            "bin_start": 0.6,
            "bin_end": 0.8999999999999999,
            "count": 0
           },
           {
            "bin_start": 0.8999999999999999,
            "bin_end": 1.2,
            "count": 5164
           },
           {
            "bin_start": 1.2,
            "bin_end": 1.5,
            "count": 0
           },
           {
            "bin_start": 1.5,
            "bin_end": 1.7999999999999998,
            "count": 0
           },
           {
            "bin_start": 1.7999999999999998,
            "bin_end": 2.1,
            "count": 6923
           },
           {
            "bin_start": 2.1,
            "bin_end": 2.4,
            "count": 0
           },
           {
            "bin_start": 2.4,
            "bin_end": 2.6999999999999997,
            "count": 0
           },
           {
            "bin_start": 2.6999999999999997,
            "bin_end": 3,
            "count": 1508
           }
          ]
         }
        },
        {
         "name": "YearsCodePro",
         "dtype": "float64",
         "stats": {
          "unique_count": 2,
          "nan_count": 0,
          "min": "0.5",
          "max": "50.0",
          "histogram": [
           {
            "bin_start": 0.5,
            "bin_end": 5.45,
            "count": 26226
           },
           {
            "bin_start": 5.45,
            "bin_end": 10.4,
            "count": 0
           },
           {
            "bin_start": 10.4,
            "bin_end": 15.350000000000001,
            "count": 0
           },
           {
            "bin_start": 15.350000000000001,
            "bin_end": 20.3,
            "count": 0
           },
           {
            "bin_start": 20.3,
            "bin_end": 25.25,
            "count": 0
           },
           {
            "bin_start": 25.25,
            "bin_end": 30.200000000000003,
            "count": 0
           },
           {
            "bin_start": 30.200000000000003,
            "bin_end": 35.15,
            "count": 0
           },
           {
            "bin_start": 35.15,
            "bin_end": 40.1,
            "count": 0
           },
           {
            "bin_start": 40.1,
            "bin_end": 45.050000000000004,
            "count": 0
           },
           {
            "bin_start": 45.050000000000004,
            "bin_end": 50,
            "count": 4
           }
          ]
         }
        },
        {
         "name": "_deepnote_index_column",
         "dtype": "int64"
        }
       ],
       "rows": [
        {
         "Country": 13,
         "EdLevel": 2,
         "YearsCodePro": 0.5,
         "_deepnote_index_column": 9
        },
        {
         "Country": 12,
         "EdLevel": 0,
         "YearsCodePro": 0.5,
         "_deepnote_index_column": 11
        },
        {
         "Country": 4,
         "EdLevel": 2,
         "YearsCodePro": 0.5,
         "_deepnote_index_column": 12
        },
        {
         "Country": 15,
         "EdLevel": 0,
         "YearsCodePro": 0.5,
         "_deepnote_index_column": 16
        },
        {
         "Country": 2,
         "EdLevel": 0,
         "YearsCodePro": 0.5,
         "_deepnote_index_column": 17
        },
        {
         "Country": 3,
         "EdLevel": 2,
         "YearsCodePro": 0.5,
         "_deepnote_index_column": 23
        },
        {
         "Country": 4,
         "EdLevel": 2,
         "YearsCodePro": 0.5,
         "_deepnote_index_column": 24
        },
        {
         "Country": 14,
         "EdLevel": 2,
         "YearsCodePro": 0.5,
         "_deepnote_index_column": 26
        },
        {
         "Country": 16,
         "EdLevel": 0,
         "YearsCodePro": 0.5,
         "_deepnote_index_column": 27
        },
        {
         "Country": 11,
         "EdLevel": 2,
         "YearsCodePro": 0.5,
         "_deepnote_index_column": 29
        }
       ]
      },
      "text/plain": "       Country  EdLevel  YearsCodePro\n9           13        2           0.5\n11          12        0           0.5\n12           4        2           0.5\n16          15        0           0.5\n17           2        0           0.5\n...        ...      ...           ...\n83430       17        2           0.5\n83432        2        0           0.5\n83434       17        0           0.5\n83436       17        1           0.5\n83438        1        3           0.5\n\n[26230 rows x 3 columns]",
      "text/html": "<div>\n<style scoped>\n    .dataframe tbody tr th:only-of-type {\n        vertical-align: middle;\n    }\n\n    .dataframe tbody tr th {\n        vertical-align: top;\n    }\n\n    .dataframe thead th {\n        text-align: right;\n    }\n</style>\n<table border=\"1\" class=\"dataframe\">\n  <thead>\n    <tr style=\"text-align: right;\">\n      <th></th>\n      <th>Country</th>\n      <th>EdLevel</th>\n      <th>YearsCodePro</th>\n    </tr>\n  </thead>\n  <tbody>\n    <tr>\n      <th>9</th>\n      <td>13</td>\n      <td>2</td>\n      <td>0.5</td>\n    </tr>\n    <tr>\n      <th>11</th>\n      <td>12</td>\n      <td>0</td>\n      <td>0.5</td>\n    </tr>\n    <tr>\n      <th>12</th>\n      <td>4</td>\n      <td>2</td>\n      <td>0.5</td>\n    </tr>\n    <tr>\n      <th>16</th>\n      <td>15</td>\n      <td>0</td>\n      <td>0.5</td>\n    </tr>\n    <tr>\n      <th>17</th>\n      <td>2</td>\n      <td>0</td>\n      <td>0.5</td>\n    </tr>\n    <tr>\n      <th>...</th>\n      <td>...</td>\n      <td>...</td>\n      <td>...</td>\n    </tr>\n    <tr>\n      <th>83430</th>\n      <td>17</td>\n      <td>2</td>\n      <td>0.5</td>\n    </tr>\n    <tr>\n      <th>83432</th>\n      <td>2</td>\n      <td>0</td>\n      <td>0.5</td>\n    </tr>\n    <tr>\n      <th>83434</th>\n      <td>17</td>\n      <td>0</td>\n      <td>0.5</td>\n    </tr>\n    <tr>\n      <th>83436</th>\n      <td>17</td>\n      <td>1</td>\n      <td>0.5</td>\n    </tr>\n    <tr>\n      <th>83438</th>\n      <td>1</td>\n      <td>3</td>\n      <td>0.5</td>\n    </tr>\n  </tbody>\n</table>\n<p>26230 rows × 3 columns</p>\n</div>"
     },
     "metadata": {}
    }
   ]
  },
  {
   "cell_type": "code",
   "source": "# country, edlevel, yearscode\nX = np.array([[\"United States of America\", 'Master’s degree', 15 ]])\nX\n",
   "metadata": {
    "cell_id": "52d1a885-69a8-41f8-b513-5e767db32aed",
    "tags": [],
    "deepnote_to_be_reexecuted": false,
    "source_hash": "4dfaac47",
    "execution_start": 1646129095937,
    "execution_millis": 19,
    "deepnote_cell_type": "code"
   },
   "outputs": [
    {
     "output_type": "execute_result",
     "execution_count": 57,
     "data": {
      "text/plain": "array([['United States of America', 'Master’s degree', '15']],\n      dtype='<U24')"
     },
     "metadata": {}
    }
   ],
   "execution_count": 57
  },
  {
   "cell_type": "code",
   "source": "# transform the above data to numerical data using Labelencoder\n\nX[:, 0] = le_country.transform(X[:, 0])\nX[:, 1] = le_education.transform(X[:,1])\nX = X.astype(float)\nX",
   "metadata": {
    "cell_id": "b9bde280-7265-4955-ae60-3cba2b8376a2",
    "tags": [],
    "deepnote_to_be_reexecuted": false,
    "source_hash": "4998fcf8",
    "execution_start": 1646129101440,
    "execution_millis": 11,
    "deepnote_cell_type": "code"
   },
   "outputs": [
    {
     "output_type": "execute_result",
     "execution_count": 58,
     "data": {
      "text/plain": "array([[17.,  2., 15.]])"
     },
     "metadata": {}
    }
   ],
   "execution_count": 58
  },
  {
   "cell_type": "code",
   "source": "new_y_pred = regressor.predict(X)\nnew_y_pred",
   "metadata": {
    "cell_id": "71a8f115-db10-4a20-ad01-948489c2b6dc",
    "tags": [],
    "deepnote_to_be_reexecuted": false,
    "source_hash": "9742b280",
    "execution_start": 1646129185844,
    "execution_millis": 41,
    "deepnote_cell_type": "code"
   },
   "outputs": [
    {
     "name": "stderr",
     "text": "/shared-libs/python3.7/py/lib/python3.7/site-packages/sklearn/base.py:451: UserWarning: X does not have valid feature names, but DecisionTreeRegressor was fitted with feature names\n  \"X does not have valid feature names, but\"\n",
     "output_type": "stream"
    },
    {
     "output_type": "execute_result",
     "execution_count": 59,
     "data": {
      "text/plain": "array([136336.16137395])"
     },
     "metadata": {}
    }
   ],
   "execution_count": 59
  },
  {
   "cell_type": "code",
   "source": "import pickle\ndata = {\"model\": regressor, \"le_country\": le_country, \"le_education\": le_education}\nwith open('saved_steps.pkl', 'wb') as file:\n    pickle.dump(data, file)",
   "metadata": {
    "cell_id": "9226f41a-7593-4035-bb11-b070f1606575",
    "tags": [],
    "deepnote_to_be_reexecuted": false,
    "source_hash": "c6210d3a",
    "execution_start": 1646129254227,
    "execution_millis": 18,
    "deepnote_cell_type": "code"
   },
   "outputs": [],
   "execution_count": 61
  },
  {
   "cell_type": "code",
   "source": "input_11 = 'I am using pickle to save the file and \\'wb\\' means write binary'",
   "metadata": {
    "cell_id": "dc3d8d6b-a362-4bcd-8910-c798cb66f130",
    "deepnote_variable_name": "input_11",
    "deepnote_variable_value": "I am using pickle to save the file and 'wb' means write binary",
    "deepnote_to_be_reexecuted": false,
    "source_hash": "8072727e",
    "execution_start": 1646129379286,
    "execution_millis": 2,
    "deepnote_cell_type": "input-text"
   },
   "outputs": [],
   "execution_count": 63
  },
  {
   "cell_type": "code",
   "source": "with open('saved_steps.pkl', 'rb') as file:\n    data = pickle.load(file)\n\nregressor_loaded = data[\"model\"]\nle_country = data[\"le_country\"]\nle_education = data[\"le_education\"]",
   "metadata": {
    "cell_id": "580a6422-6108-4e0e-91a9-d1df13de5126",
    "tags": [],
    "deepnote_to_be_reexecuted": false,
    "source_hash": "1f132eb1",
    "execution_start": 1646129299044,
    "execution_millis": 6,
    "deepnote_cell_type": "code"
   },
   "outputs": [],
   "execution_count": 62
  },
  {
   "cell_type": "code",
   "source": "y_pred = regressor_loaded.predict(X)\ny_pred",
   "metadata": {
    "cell_id": "1bc5e614-2e4b-4a2b-bee4-64b0dca0eea4",
    "tags": [],
    "deepnote_to_be_reexecuted": false,
    "source_hash": "67b71d5d",
    "execution_start": 1646129474800,
    "execution_millis": 0,
    "deepnote_cell_type": "code"
   },
   "outputs": [
    {
     "name": "stderr",
     "text": "/shared-libs/python3.7/py/lib/python3.7/site-packages/sklearn/base.py:451: UserWarning: X does not have valid feature names, but DecisionTreeRegressor was fitted with feature names\n  \"X does not have valid feature names, but\"\n",
     "output_type": "stream"
    },
    {
     "output_type": "execute_result",
     "execution_count": 64,
     "data": {
      "text/plain": "array([136336.16137395])"
     },
     "metadata": {}
    }
   ],
   "execution_count": 64
  },
  {
   "cell_type": "code",
   "source": "",
   "metadata": {
    "cell_id": "4c1f53e1-5202-4485-b1d7-7e168351918d",
    "tags": [],
    "deepnote_cell_type": "code"
   },
   "outputs": [],
   "execution_count": null
  },
  {
   "cell_type": "code",
   "source": "",
   "metadata": {
    "cell_id": "dbe58258-94fc-40f8-a54f-c71c832c9068",
    "tags": [],
    "deepnote_to_be_reexecuted": false,
    "source_hash": "b623e53d",
    "execution_start": 1646128709037,
    "deepnote_cell_type": "code"
   },
   "outputs": [],
   "execution_count": 47
  },
  {
   "cell_type": "code",
   "source": "",
   "metadata": {
    "cell_id": "9109d35f-abcb-49c0-857f-cb5f266f8092",
    "tags": [],
    "deepnote_to_be_reexecuted": false,
    "source_hash": "b623e53d",
    "execution_start": 1646128709037,
    "deepnote_cell_type": "code"
   },
   "outputs": [],
   "execution_count": 47
  },
  {
   "cell_type": "markdown",
   "source": "<a style='text-decoration:none;line-height:16px;display:flex;color:#5B5B62;padding:10px;justify-content:end;' href='https://deepnote.com?utm_source=created-in-deepnote-cell&projectId=2133f0b7-2345-40af-98fb-f08e93556bc5' target=\"_blank\">\n<img alt='Created in deepnote.com' style='display:inline;max-height:16px;margin:0px;margin-right:7.5px;' src='data:image/svg+xml;base64,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' > </img>\nCreated in <span style='font-weight:600;margin-left:4px;'>Deepnote</span></a>",
   "metadata": {
    "tags": [],
    "created_in_deepnote_cell": true,
    "deepnote_cell_type": "markdown"
   }
  }
 ],
 "nbformat": 4,
 "nbformat_minor": 2,
 "metadata": {
  "orig_nbformat": 2,
  "deepnote": {
   "is_reactive": false
  },
  "deepnote_notebook_id": "27cd07a4-8aa8-4304-993a-9bb08cb357b9",
  "deepnote_execution_queue": []
 }
}